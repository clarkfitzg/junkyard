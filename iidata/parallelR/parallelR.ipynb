{
 "cells": [
  {
   "cell_type": "code",
   "execution_count": 1,
   "metadata": {
    "collapsed": true
   },
   "outputs": [],
   "source": [
    "# Notebook setup\n",
    "\n",
    "library(repr)\n",
    "options(repr.plot.width=8, repr.plot.height=6)"
   ]
  },
  {
   "cell_type": "markdown",
   "metadata": {},
   "source": [
    "## Linear Regression\n",
    "\n",
    "Model:\n",
    "$$\n",
    "    y = \\beta_0 + \\beta_1 x + \\epsilon\n",
    "$$\n",
    "where $\\epsilon \\sim N(0, \\sigma^2)$.\n",
    "\n",
    "__Goal: Find the variability in estimates of $\\beta$__"
   ]
  },
  {
   "cell_type": "code",
   "execution_count": 2,
   "metadata": {
    "collapsed": false
   },
   "outputs": [],
   "source": [
    "# Simulating the model:\n",
    "\n",
    "b0 = 1\n",
    "b1 = 5\n",
    "sigma = 10\n",
    "n = 10000L\n",
    "\n",
    "set.seed(37)\n",
    "x = runif(n)\n",
    "\n",
    "# SECRET LESSON: Play with the following lines\n",
    "\n",
    "#epsilon = sigma * rnorm(n)\n",
    "# But what if it isn't normal?!! GASP!\n",
    "epsilon = sigma * rt(n, 3)\n",
    "\n",
    "y = b0 + b1 * x + epsilon\n",
    "\n",
    "xy = data.frame(x = x, y = y)"
   ]
  },
  {
   "cell_type": "code",
   "execution_count": 3,
   "metadata": {
    "collapsed": false
   },
   "outputs": [
    {
     "data": {
      "image/png": "[encoded data removed]",
      "text/plain": [
       "plot without title"
      ]
     },
     "metadata": {},
     "output_type": "display_data"
    }
   ],
   "source": [
    "with(xy[1:100, ], plot(x, y))"
   ]
  },
  {
   "cell_type": "markdown",
   "metadata": {},
   "source": [
    "It's difficult to visually detect the linear relationship because the variance $\\sigma^2$ is relatively large."
   ]
  },
  {
   "cell_type": "code",
   "execution_count": 4,
   "metadata": {
    "collapsed": false
   },
   "outputs": [
    {
     "data": {
      "text/html": [
       "<dl class=dl-horizontal>\n",
       "\t<dt>(Intercept)</dt>\n",
       "\t\t<dd>0.9256451264926</dd>\n",
       "\t<dt>x</dt>\n",
       "\t\t<dd>4.51350658829961</dd>\n",
       "</dl>\n"
      ],
      "text/latex": [
       "\\begin{description*}\n",
       "\\item[(Intercept)] 0.9256451264926\n",
       "\\item[x] 4.51350658829961\n",
       "\\end{description*}\n"
      ],
      "text/markdown": [
       "(Intercept)\n",
       ":   0.9256451264926x\n",
       ":   4.51350658829961\n",
       "\n"
      ],
      "text/plain": [
       "(Intercept)           x \n",
       "  0.9256451   4.5135066 "
      ]
     },
     "metadata": {},
     "output_type": "display_data"
    }
   ],
   "source": [
    "fit = lm(y ~ x, data = xy)\n",
    "coef(fit)"
   ]
  },
  {
   "cell_type": "markdown",
   "metadata": {},
   "source": [
    "Since we assumed $\\epsilon \\sim N(0, \\sigma^2)$ we can use a t distribution to calculate exact analytic confidence intervals for the coefficients $\\beta_0$ and $\\beta_1$. That's what R does here:"
   ]
  },
  {
   "cell_type": "code",
   "execution_count": 5,
   "metadata": {
    "collapsed": false
   },
   "outputs": [
    {
     "data": {
      "text/html": [
       "<table>\n",
       "<thead><tr><th></th><th scope=col>2.5 %</th><th scope=col>97.5 %</th></tr></thead>\n",
       "<tbody>\n",
       "\t<tr><th scope=row>(Intercept)</th><td>0.2796422</td><td>1.571648 </td></tr>\n",
       "\t<tr><th scope=row>x</th><td>3.3922392</td><td>5.634774 </td></tr>\n",
       "</tbody>\n",
       "</table>\n"
      ],
      "text/latex": [
       "\\begin{tabular}{r|ll}\n",
       "  & 2.5 \\% & 97.5 \\%\\\\\n",
       "\\hline\n",
       "\t(Intercept) & 0.2796422 & 1.571648 \\\\\n",
       "\tx & 3.3922392 & 5.634774 \\\\\n",
       "\\end{tabular}\n"
      ],
      "text/markdown": [
       "\n",
       "| <!--/--> | 2.5 % | 97.5 % | \n",
       "|---|---|\n",
       "| (Intercept) | 0.2796422 | 1.571648  | \n",
       "| x | 3.3922392 | 5.634774  | \n",
       "\n",
       "\n"
      ],
      "text/plain": [
       "            2.5 %     97.5 %  \n",
       "(Intercept) 0.2796422 1.571648\n",
       "x           3.3922392 5.634774"
      ]
     },
     "metadata": {},
     "output_type": "display_data"
    }
   ],
   "source": [
    "confint(fit)"
   ]
  },
  {
   "cell_type": "markdown",
   "metadata": {},
   "source": [
    "## Bootstrap\n",
    "\n",
    "Alternatively, the bootstrap can approximate confidence intervals. The general idea is:\n",
    "1. Take a sample of size n with replacement of the data\n",
    "2. Compute the fitted coefficients $\\hat{\\beta}$.\n",
    "3. Repeat 1000's of times!"
   ]
  },
  {
   "cell_type": "code",
   "execution_count": 6,
   "metadata": {
    "collapsed": false
   },
   "outputs": [
    {
     "data": {
      "text/html": [
       "<dl class=dl-horizontal>\n",
       "\t<dt>(Intercept)</dt>\n",
       "\t\t<dd>0.740243286169804</dd>\n",
       "\t<dt>x</dt>\n",
       "\t\t<dd>4.63359760678425</dd>\n",
       "</dl>\n"
      ],
      "text/latex": [
       "\\begin{description*}\n",
       "\\item[(Intercept)] 0.740243286169804\n",
       "\\item[x] 4.63359760678425\n",
       "\\end{description*}\n"
      ],
      "text/markdown": [
       "(Intercept)\n",
       ":   0.740243286169804x\n",
       ":   4.63359760678425\n",
       "\n"
      ],
      "text/plain": [
       "(Intercept)           x \n",
       "  0.7402433   4.6335976 "
      ]
     },
     "metadata": {},
     "output_type": "display_data"
    }
   ],
   "source": [
    "# IMPORTANT: This function takes arguments and does nothing with them.\n",
    "# And it uses the global variable xy, which MUST be available on the worker machine\n",
    "\n",
    "# If you think this is weird - you're right!\n",
    "# We do it here to make something that will easily work in parallel\n",
    "\n",
    "bootbeta = function(...)\n",
    "{\n",
    "    n = nrow(xy)\n",
    "    xy_boot = xy[sample.int(n, replace = TRUE), ]\n",
    "    fit_boot = lm(y ~ x, data = xy_boot)\n",
    "    coef(fit_boot)\n",
    "}\n",
    "\n",
    "# Test it!\n",
    "bootbeta()"
   ]
  },
  {
   "cell_type": "code",
   "execution_count": 7,
   "metadata": {
    "collapsed": false
   },
   "outputs": [
    {
     "data": {
      "text/plain": [
       "   user  system elapsed \n",
       "  8.296   0.000   8.297 "
      ]
     },
     "metadata": {},
     "output_type": "display_data"
    }
   ],
   "source": [
    "# We could use replicate()\n",
    "# doing it this way for consistency with the parallel package\n",
    "system.time(betas <- lapply(1:1000, bootbeta))\n",
    "\n",
    "beta_todf = function(betas)\n",
    "{\n",
    "    betas = simplify2array(betas)\n",
    "    row.names(betas) = c(\"beta0\", \"beta1\")\n",
    "    betas = data.frame(t(betas)) \n",
    "}\n",
    "\n",
    "betas = beta_todf(betas)"
   ]
  },
  {
   "cell_type": "code",
   "execution_count": 8,
   "metadata": {
    "collapsed": false
   },
   "outputs": [
    {
     "data": {
      "text/html": [
       "<table>\n",
       "<thead><tr><th scope=col>beta0</th><th scope=col>beta1</th></tr></thead>\n",
       "<tbody>\n",
       "\t<tr><td>1.0345920</td><td>3.980326 </td></tr>\n",
       "\t<tr><td>1.0200276</td><td>4.338744 </td></tr>\n",
       "\t<tr><td>0.6275696</td><td>4.863746 </td></tr>\n",
       "\t<tr><td>0.7279137</td><td>4.789514 </td></tr>\n",
       "\t<tr><td>0.7695179</td><td>4.958668 </td></tr>\n",
       "\t<tr><td>0.3519127</td><td>5.788331 </td></tr>\n",
       "</tbody>\n",
       "</table>\n"
      ],
      "text/latex": [
       "\\begin{tabular}{r|ll}\n",
       " beta0 & beta1\\\\\n",
       "\\hline\n",
       "\t 1.0345920 & 3.980326 \\\\\n",
       "\t 1.0200276 & 4.338744 \\\\\n",
       "\t 0.6275696 & 4.863746 \\\\\n",
       "\t 0.7279137 & 4.789514 \\\\\n",
       "\t 0.7695179 & 4.958668 \\\\\n",
       "\t 0.3519127 & 5.788331 \\\\\n",
       "\\end{tabular}\n"
      ],
      "text/markdown": [
       "\n",
       "beta0 | beta1 | \n",
       "|---|---|---|---|---|---|\n",
       "| 1.0345920 | 3.980326  | \n",
       "| 1.0200276 | 4.338744  | \n",
       "| 0.6275696 | 4.863746  | \n",
       "| 0.7279137 | 4.789514  | \n",
       "| 0.7695179 | 4.958668  | \n",
       "| 0.3519127 | 5.788331  | \n",
       "\n",
       "\n"
      ],
      "text/plain": [
       "  beta0     beta1   \n",
       "1 1.0345920 3.980326\n",
       "2 1.0200276 4.338744\n",
       "3 0.6275696 4.863746\n",
       "4 0.7279137 4.789514\n",
       "5 0.7695179 4.958668\n",
       "6 0.3519127 5.788331"
      ]
     },
     "metadata": {},
     "output_type": "display_data"
    }
   ],
   "source": [
    "head(betas)"
   ]
  },
  {
   "cell_type": "code",
   "execution_count": 9,
   "metadata": {
    "collapsed": false
   },
   "outputs": [
    {
     "data": {
      "image/png": "[encoded data removed]",
      "text/plain": [
       "Plot with title “Histogram of beta1”"
      ]
     },
     "metadata": {},
     "output_type": "display_data"
    }
   ],
   "source": [
    "par(mfrow = c(1, 2))\n",
    "with(betas, hist(beta0, freq = FALSE))\n",
    "with(betas, hist(beta1, freq = FALSE))"
   ]
  },
  {
   "cell_type": "markdown",
   "metadata": {},
   "source": [
    "We can take quantiles of the bootstrap statistics to get a 95% confidence interval."
   ]
  },
  {
   "cell_type": "code",
   "execution_count": 10,
   "metadata": {
    "collapsed": false
   },
   "outputs": [
    {
     "data": {
      "text/html": [
       "<dl>\n",
       "\t<dt>$beta0</dt>\n",
       "\t\t<dd><dl class=dl-horizontal>\n",
       "\t<dt>2.5%</dt>\n",
       "\t\t<dd>0.260856741794728</dd>\n",
       "\t<dt>97.5%</dt>\n",
       "\t\t<dd>1.55611185255417</dd>\n",
       "</dl>\n",
       "</dd>\n",
       "\t<dt>$beta1</dt>\n",
       "\t\t<dd><dl class=dl-horizontal>\n",
       "\t<dt>2.5%</dt>\n",
       "\t\t<dd>3.4195271588181</dd>\n",
       "\t<dt>97.5%</dt>\n",
       "\t\t<dd>5.63450708969366</dd>\n",
       "</dl>\n",
       "</dd>\n",
       "</dl>\n"
      ],
      "text/latex": [
       "\\begin{description}\n",
       "\\item[\\$beta0] \\begin{description*}\n",
       "\\item[2.5\\textbackslash{}\\%] 0.260856741794728\n",
       "\\item[97.5\\textbackslash{}\\%] 1.55611185255417\n",
       "\\end{description*}\n",
       "\n",
       "\\item[\\$beta1] \\begin{description*}\n",
       "\\item[2.5\\textbackslash{}\\%] 3.4195271588181\n",
       "\\item[97.5\\textbackslash{}\\%] 5.63450708969366\n",
       "\\end{description*}\n",
       "\n",
       "\\end{description}\n"
      ],
      "text/markdown": [
       "$beta0\n",
       ":   2.5%\n",
       ":   0.26085674179472897.5%\n",
       ":   1.55611185255417\n",
       "\n",
       "\n",
       "$beta1\n",
       ":   2.5%\n",
       ":   3.419527158818197.5%\n",
       ":   5.63450708969366\n",
       "\n",
       "\n",
       "\n",
       "\n"
      ],
      "text/plain": [
       "$beta0\n",
       "     2.5%     97.5% \n",
       "0.2608567 1.5561119 \n",
       "\n",
       "$beta1\n",
       "    2.5%    97.5% \n",
       "3.419527 5.634507 \n"
      ]
     },
     "metadata": {},
     "output_type": "display_data"
    }
   ],
   "source": [
    "lapply(betas, function(b) quantile(b, probs = c(0.025, 0.975)))"
   ]
  },
  {
   "cell_type": "markdown",
   "metadata": {},
   "source": [
    "Compare to exact confidence interval from above:"
   ]
  },
  {
   "cell_type": "code",
   "execution_count": 11,
   "metadata": {
    "collapsed": false
   },
   "outputs": [
    {
     "data": {
      "text/html": [
       "<table>\n",
       "<thead><tr><th></th><th scope=col>2.5 %</th><th scope=col>97.5 %</th></tr></thead>\n",
       "<tbody>\n",
       "\t<tr><th scope=row>(Intercept)</th><td>0.2796422</td><td>1.571648 </td></tr>\n",
       "\t<tr><th scope=row>x</th><td>3.3922392</td><td>5.634774 </td></tr>\n",
       "</tbody>\n",
       "</table>\n"
      ],
      "text/latex": [
       "\\begin{tabular}{r|ll}\n",
       "  & 2.5 \\% & 97.5 \\%\\\\\n",
       "\\hline\n",
       "\t(Intercept) & 0.2796422 & 1.571648 \\\\\n",
       "\tx & 3.3922392 & 5.634774 \\\\\n",
       "\\end{tabular}\n"
      ],
      "text/markdown": [
       "\n",
       "| <!--/--> | 2.5 % | 97.5 % | \n",
       "|---|---|\n",
       "| (Intercept) | 0.2796422 | 1.571648  | \n",
       "| x | 3.3922392 | 5.634774  | \n",
       "\n",
       "\n"
      ],
      "text/plain": [
       "            2.5 %     97.5 %  \n",
       "(Intercept) 0.2796422 1.571648\n",
       "x           3.3922392 5.634774"
      ]
     },
     "metadata": {},
     "output_type": "display_data"
    }
   ],
   "source": [
    "confint(fit)"
   ]
  },
  {
   "cell_type": "markdown",
   "metadata": {},
   "source": []
  },
  {
   "cell_type": "markdown",
   "metadata": {},
   "source": [
    "# Parallel Time!\n",
    "\n",
    "What is the embarrassingly parallel problem? Think about it."
   ]
  },
  {
   "cell_type": "code",
   "execution_count": null,
   "metadata": {
    "collapsed": true
   },
   "outputs": [],
   "source": [
    "\n",
    "\n",
    "\n",
    "\n",
    "\n",
    "\n",
    "\n",
    "\n",
    "\n",
    "\n",
    "\n",
    "\n",
    "\n",
    "\n",
    "\n",
    "\n",
    "\n",
    "\n",
    "\n",
    "\n",
    "\n",
    "\n",
    "\n",
    "\n"
   ]
  },
  {
   "cell_type": "code",
   "execution_count": 12,
   "metadata": {
    "collapsed": false
   },
   "outputs": [
    {
     "data": {
      "text/html": [
       "2"
      ],
      "text/latex": [
       "2"
      ],
      "text/markdown": [
       "2"
      ],
      "text/plain": [
       "[1] 2"
      ]
     },
     "metadata": {},
     "output_type": "display_data"
    }
   ],
   "source": [
    "library(parallel)\n",
    "\n",
    "detectCores(logical = FALSE)"
   ]
  },
  {
   "cell_type": "markdown",
   "metadata": {},
   "source": [
    "`detectCores` is a sanity check. If everything works perfectly then we __may__ see a max speedup of 3.5x for a 4 core machine.\n",
    "\n",
    "Since I wrote the functions in a nice way above, all I needed to do was change `lapply` to `mclapply`.\n",
    "\n",
    "Before:\n",
    "```\n",
    "system.time(betas <- lapply(1:1000, bootbeta))\n",
    "```\n",
    "After:"
   ]
  },
  {
   "cell_type": "code",
   "execution_count": 13,
   "metadata": {
    "collapsed": false
   },
   "outputs": [
    {
     "data": {
      "text/plain": [
       "   user  system elapsed \n",
       "  5.124   0.028   5.302 "
      ]
     },
     "metadata": {},
     "output_type": "display_data"
    }
   ],
   "source": [
    "system.time(betas2 <- mclapply(1:1000, bootbeta))"
   ]
  },
  {
   "cell_type": "markdown",
   "metadata": {},
   "source": [
    "# MORE SPEED\n",
    "\n",
    "We do this to accelerate our code. So let's take it a step further and write it in C."
   ]
  },
  {
   "cell_type": "code",
   "execution_count": 24,
   "metadata": {
    "collapsed": false
   },
   "outputs": [],
   "source": [
    "system(\"R CMD SHLIB bootbetas.c\")"
   ]
  },
  {
   "cell_type": "code",
   "execution_count": 25,
   "metadata": {
    "collapsed": true
   },
   "outputs": [],
   "source": [
    "dyn.load(\"bootbetas.so\")"
   ]
  },
  {
   "cell_type": "code",
   "execution_count": 26,
   "metadata": {
    "collapsed": false
   },
   "outputs": [],
   "source": [
    "out = .C(\"fit_ols\", x, y, n, beta = numeric(2))$beta"
   ]
  },
  {
   "cell_type": "code",
   "execution_count": 27,
   "metadata": {
    "collapsed": false
   },
   "outputs": [
    {
     "data": {
      "text/html": [
       "<dl class=dl-horizontal>\n",
       "\t<dt>(Intercept)</dt>\n",
       "\t\t<dd>-1.75415237890775e-14</dd>\n",
       "\t<dt>x</dt>\n",
       "\t\t<dd>2.66453525910038e-14</dd>\n",
       "</dl>\n"
      ],
      "text/latex": [
       "\\begin{description*}\n",
       "\\item[(Intercept)] -1.75415237890775e-14\n",
       "\\item[x] 2.66453525910038e-14\n",
       "\\end{description*}\n"
      ],
      "text/markdown": [
       "(Intercept)\n",
       ":   -1.75415237890775e-14x\n",
       ":   2.66453525910038e-14\n",
       "\n"
      ],
      "text/plain": [
       "  (Intercept)             x \n",
       "-1.754152e-14  2.664535e-14 "
      ]
     },
     "metadata": {},
     "output_type": "display_data"
    }
   ],
   "source": [
    "# Sanity check: This should be numerically 0\n",
    "out - coef(fit)"
   ]
  },
  {
   "cell_type": "code",
   "execution_count": null,
   "metadata": {
    "collapsed": true
   },
   "outputs": [],
   "source": []
  }
 ],
 "metadata": {
  "kernelspec": {
   "display_name": "R",
   "language": "R",
   "name": "ir"
  },
  "language_info": {
   "codemirror_mode": "r",
   "file_extension": ".r",
   "mimetype": "text/x-r-source",
   "name": "R",
   "pygments_lexer": "r",
   "version": "3.3.2"
  }
 },
 "nbformat": 4,
 "nbformat_minor": 0
}
