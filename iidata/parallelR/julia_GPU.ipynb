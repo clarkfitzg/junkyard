{
 "cells": [
  {
   "cell_type": "code",
   "execution_count": 10,
   "metadata": {
    "collapsed": false
   },
   "outputs": [],
   "source": [
    "using OpenCL"
   ]
  },
  {
   "cell_type": "code",
   "execution_count": 8,
   "metadata": {
    "collapsed": false
   },
   "outputs": [
    {
     "data": {
      "text/plain": [
       "10000-element Array{Float32,1}:\n",
       "  -6.08834 \n",
       " -13.1337  \n",
       "  -0.993628\n",
       "  -2.22474 \n",
       " -15.1408  \n",
       "  26.9492  \n",
       "   3.66461 \n",
       "  13.0844  \n",
       "   2.24964 \n",
       "  -7.70494 \n",
       "   3.14928 \n",
       "  11.7378  \n",
       "  24.4508  \n",
       "   ⋮       \n",
       "   7.75193 \n",
       "   3.43734 \n",
       "  -8.5505  \n",
       "  -9.54199 \n",
       "   7.29454 \n",
       "   0.574152\n",
       "   6.34216 \n",
       "  17.8809  \n",
       "  -0.782937\n",
       "  -9.38895 \n",
       "  29.2672  \n",
       "   2.21033 "
      ]
     },
     "execution_count": 8,
     "metadata": {},
     "output_type": "execute_result"
    }
   ],
   "source": [
    "b0 = 1\n",
    "b1 = 5\n",
    "sigma = 10\n",
    "n = Int32(10_000)\n",
    "nboots = Int32(1_000)\n",
    "\n",
    "srand(37)\n",
    "x = Float32.(rand(n))\n",
    "\n",
    "epsilon = Float32.(sigma * randn(n))\n",
    "\n",
    "y = b0 + b1 * x + epsilon"
   ]
  },
  {
   "cell_type": "code",
   "execution_count": 3,
   "metadata": {
    "collapsed": false
   },
   "outputs": [
    {
     "data": {
      "text/plain": [
       "\"// n is the length of x, y\\n__kernel void bootbetas(__global const float *x\\n        , __global const float *y\\n        , __global float *betas\\n\\t\\t, int n\\n        )\\n{\\n    // TODO: Do we call srand() ?\\n    float sumx = 0.0;\\n    float sumy = 0.0;\\n    float sumx2 = 0.0;\\n    float sumxy = 0.0;\\n    for(int i = 0; i < n; i++)\\n    {\\n        iboot = rand() % *n;\\n        sumx += x[iboot];\\n        sumy += y[iboot];\\n        sumx2 += x[iboot] * x[iboot];\\n        sumxy += x[iboot] * y[iboot];\\n    }\\n    float nd = (float) *n;\\n    float xbar = sumx / nd;\\n    float ybar = sumy / nd;\\n    float x2bar = sumx2 / nd;\\n    float xybar = sumxy / nd;\\n\\n    float b1 = (xybar - xbar * ybar) / (x2bar - xbar * xbar);\\n    float b0 = ybar - b1 * xbar;\\n\\n    int id = get_global_id(0);\\n\\n    betas[2 * id] = b0;\\n    betas[2 * id + 1] = b1;\\n}\\n\""
      ]
     },
     "execution_count": 3,
     "metadata": {},
     "output_type": "execute_result"
    }
   ],
   "source": [
    "kernel_src = open(\"bootbetas.cl\") do f\n",
    "   readstring(f)\n",
    "end"
   ]
  },
  {
   "cell_type": "code",
   "execution_count": null,
   "metadata": {
    "collapsed": true
   },
   "outputs": [],
   "source": [
    "device, ctx, queue = cl.create_compute_context()\n",
    "\n",
    "# Copy over to the device\n",
    "xd = cl.Buffer(Float32, ctx, (:r, :copy), hostbuf = x)\n",
    "yd = cl.Buffer(Float32, ctx, (:r, :copy), hostbuf = y)\n",
    "\n",
    "# Column major array storing bootstrapped b0, b1\n",
    "beta_d = cl.Buffer(Float32, ctx, :w, 2*nboots)\n",
    "\n",
    "program = cl.Program(ctx, source = kernel_src) |> cl.build!\n",
    "bootbeta_kernel = cl.Kernel(program, \"tps\")\n",
    "sum_kernel = cl.Kernel(program, \"sum\")\n",
    "\n",
    "function ll_gpu(Θ)\n",
    "    queue(tps_kernel, threads_tps, nothing\n",
    "                  , Float32(Θ)\n",
    "                  , knots_clbuff\n",
    "                  , coefficients_clbuff\n",
    "                  , intermediate_clbuff\n",
    "                  )\n",
    "    queue(sum_kernel, threads_sum, nothing\n",
    "                  , intermediate_clbuff\n",
    "                  , partial_sums_clbuff\n",
    "                  , nterms_sum\n",
    "                  )\n",
    "    ll::Vector{Float32} = cl.read(queue, partial_sums_clbuff)\n",
    "    return sum(ll)\n",
    "end"
   ]
  }
 ],
 "metadata": {
  "kernelspec": {
   "display_name": "Julia 0.5.1-pre",
   "language": "julia",
   "name": "julia-0.5"
  },
  "language_info": {
   "file_extension": ".jl",
   "mimetype": "application/julia",
   "name": "julia",
   "version": "0.5.1"
  }
 },
 "nbformat": 4,
 "nbformat_minor": 0
}
