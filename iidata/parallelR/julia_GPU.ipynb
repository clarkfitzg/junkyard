{
 "cells": [
  {
   "cell_type": "code",
   "execution_count": 1,
   "metadata": {
    "collapsed": false
   },
   "outputs": [],
   "source": [
    "using OpenCL"
   ]
  },
  {
   "cell_type": "code",
   "execution_count": 2,
   "metadata": {
    "collapsed": false
   },
   "outputs": [
    {
     "data": {
      "text/plain": [
       "10000-element Array{Float32,1}:\n",
       "  -6.08834 \n",
       " -13.1337  \n",
       "  -0.993628\n",
       "  -2.22474 \n",
       " -15.1408  \n",
       "  26.9492  \n",
       "   3.66461 \n",
       "  13.0844  \n",
       "   2.24964 \n",
       "  -7.70494 \n",
       "   3.14928 \n",
       "  11.7378  \n",
       "  24.4508  \n",
       "   ⋮       \n",
       "   7.75193 \n",
       "   3.43734 \n",
       "  -8.5505  \n",
       "  -9.54199 \n",
       "   7.29454 \n",
       "   0.574152\n",
       "   6.34216 \n",
       "  17.8809  \n",
       "  -0.782937\n",
       "  -9.38895 \n",
       "  29.2672  \n",
       "   2.21033 "
      ]
     },
     "execution_count": 2,
     "metadata": {},
     "output_type": "execute_result"
    }
   ],
   "source": [
    "b0 = 1\n",
    "b1 = 5\n",
    "sigma = 10\n",
    "n = Int32(10_000)\n",
    "nboots = Int32(1_000)\n",
    "\n",
    "srand(37)\n",
    "x = Float32.(rand(n))\n",
    "\n",
    "epsilon = Float32.(sigma * randn(n))\n",
    "\n",
    "y = b0 + b1 * x + epsilon"
   ]
  },
  {
   "cell_type": "code",
   "execution_count": 6,
   "metadata": {
    "collapsed": false
   },
   "outputs": [
    {
     "data": {
      "text/plain": [
       "\"// n is the length of x, y\\n__kernel void bootbeta(__global const float *x\\n        , __global const float *y\\n        , __global float *betas\\n\\t\\t, int n\\n        )\\n{\\n    // TODO: Do we call srand() ?\\n    float sumx = 0.0;\\n    float sumy = 0.0;\\n    float sumx2 = 0.0;\\n    float sumxy = 0.0;\\n    for(int i = 0; i < n; i++)\\n    {\\n        iboot = rand() % *n;\\n        sumx += x[iboot];\\n        sumy += y[iboot];\\n        sumx2 += x[iboot] * x[iboot];\\n        sumxy += x[iboot] * y[iboot];\\n    }\\n    float nd = (float) *n;\\n    float xbar = sumx / nd;\\n    float ybar = sumy / nd;\\n    float x2bar = sumx2 / nd;\\n    float xybar = sumxy / nd;\\n\\n    float b1 = (xybar - xbar * ybar) / (x2bar - xbar * xbar);\\n    float b0 = ybar - b1 * xbar;\\n\\n    int id = get_global_id(0);\\n\\n    betas[2 * id] = b0;\\n    betas[2 * id + 1] = b1;\\n}\\n\""
      ]
     },
     "execution_count": 6,
     "metadata": {},
     "output_type": "execute_result"
    }
   ],
   "source": [
    "const kernel_src = open(\"bootbeta.cl\") do f\n",
    "   readstring(f)\n",
    "end"
   ]
  },
  {
   "cell_type": "code",
   "execution_count": 7,
   "metadata": {
    "collapsed": false
   },
   "outputs": [
    {
     "name": "stderr",
     "output_type": "stream",
     "text": [
      "\u001b[1m\u001b[31mERROR (unhandled task failure): MethodError: no method matching unsafe_string(::Ptr{Void})\u001b[0m\n",
      "Closest candidates are:\n",
      "  unsafe_string(\u001b[1m\u001b[31m::ZMQ.Message\u001b[0m) at /Users/clark/.julia/v0.5/ZMQ/src/ZMQ.jl:439\n",
      "  unsafe_string(\u001b[1m\u001b[31m::Cstring\u001b[0m) at c.jl:187\n",
      "  unsafe_string(\u001b[1m\u001b[31m::Union{Ptr{Int8},Ptr{UInt8}}\u001b[0m) at strings/basic.jl:56\n",
      "  ...\u001b[0m\n",
      " in macro expansion at /Users/clark/.julia/v0.5/OpenCL/src/context.jl:95 [inlined]\n",
      " in (::OpenCL.cl.##44#46)() at ./task.jl:360\n",
      "\u001b[0m"
     ]
    },
    {
     "ename": "LoadError",
     "evalue": "CLError(code=-11, CL_BUILD_PROGRAM_FAILURE)",
     "output_type": "error",
     "traceback": [
      "CLError(code=-11, CL_BUILD_PROGRAM_FAILURE)",
      "",
      " in macro expansion at /Users/clark/.julia/v0.5/OpenCL/src/macros.jl:6 [inlined]",
      " in #build!#117(::String, ::Bool, ::Function, ::OpenCL.cl.Program) at /Users/clark/.julia/v0.5/OpenCL/src/program.jl:84",
      " in |>(::OpenCL.cl.Program, ::OpenCL.cl.#build!) at ./operators.jl:350"
     ]
    }
   ],
   "source": [
    "device, ctx, queue = cl.create_compute_context()\n",
    "\n",
    "# Copy over to the device\n",
    "xd = cl.Buffer(Float32, ctx, (:r, :copy), hostbuf = x)\n",
    "yd = cl.Buffer(Float32, ctx, (:r, :copy), hostbuf = y)\n",
    "\n",
    "# Column major array storing bootstrapped b0, b1\n",
    "beta_d = cl.Buffer(Float32, ctx, :w, 2*nboots)\n",
    "\n",
    "program = cl.Program(ctx, source = kernel_src) |> cl.build!\n",
    "bootbeta_kernel = cl.Kernel(program, \"bootbeta\")"
   ]
  },
  {
   "cell_type": "code",
   "execution_count": 5,
   "metadata": {
    "collapsed": false
   },
   "outputs": [
    {
     "ename": "LoadError",
     "evalue": "UndefVarError: bootbeta_kernel not defined",
     "output_type": "error",
     "traceback": [
      "UndefVarError: bootbeta_kernel not defined",
      ""
     ]
    }
   ],
   "source": [
    "queue(bootbeta_kernel, nboots, nothing\n",
    "    , knots_clbuff\n",
    "    , coefficients_clbuff\n",
    "    , intermediate_clbuff\n",
    "    )\n",
    "\n",
    "ll::Vector{Float32} = cl.read(queue, beta_d)"
   ]
  }
 ],
 "metadata": {
  "kernelspec": {
   "display_name": "Julia 0.5.1-pre",
   "language": "julia",
   "name": "julia-0.5"
  },
  "language_info": {
   "file_extension": ".jl",
   "mimetype": "application/julia",
   "name": "julia",
   "version": "0.5.1"
  }
 },
 "nbformat": 4,
 "nbformat_minor": 0
}
