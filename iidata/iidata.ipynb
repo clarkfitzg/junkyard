{
 "cells": [
  {
   "cell_type": "markdown",
   "metadata": {},
   "source": [
    "# Python for R Users\n",
    "\n",
    "## Clark Fitzgerald \n",
    "\n",
    "`@clarkfitzg`\n",
    "\n",
    "## UC Davis iidata\n",
    "\n",
    "May 21, 2016\n",
    "\n",
    "To follow along: http://bit.ly/1RejWpI"
   ]
  },
  {
   "cell_type": "markdown",
   "metadata": {},
   "source": [
    "# The Standard Library\n",
    "\n",
    "Python's philosophy is 'batteries included'\n",
    "\n",
    "This functionality is available with all distributions of Python."
   ]
  },
  {
   "cell_type": "code",
   "execution_count": 81,
   "metadata": {
    "collapsed": false
   },
   "outputs": [
    {
     "name": "stdout",
     "output_type": "stream",
     "text": [
      "The Zen of Python, by Tim Peters\n",
      "\n",
      "Beautiful is better than ugly.\n",
      "Explicit is better than implicit.\n",
      "Simple is better than complex.\n",
      "Complex is better than complicated.\n",
      "Flat is better than nested.\n",
      "Sparse is better than dense.\n",
      "Readability counts.\n",
      "Special cases aren't special enough to break the rules.\n",
      "Although practicality beats purity.\n",
      "Errors should never pass silently.\n",
      "Unless explicitly silenced.\n",
      "In the face of ambiguity, refuse the temptation to guess.\n",
      "There should be one-- and preferably only one --obvious way to do it.\n",
      "Although that way may not be obvious at first unless you're Dutch.\n",
      "Now is better than never.\n",
      "Although never is often better than *right* now.\n",
      "If the implementation is hard to explain, it's a bad idea.\n",
      "If the implementation is easy to explain, it may be a good idea.\n",
      "Namespaces are one honking great idea -- let's do more of those!\n"
     ]
    }
   ],
   "source": [
    "# Come for the language, stay for the community\n",
    "import this"
   ]
  },
  {
   "cell_type": "markdown",
   "metadata": {},
   "source": [
    "# Project Euler\n",
    "\n",
    "Algorithm / math problems that you can help you learn to program\n",
    "\n",
    "### Largest palindrome product\n",
    "### Problem 4\n",
    "\n",
    "A palindromic number reads the same both ways. The largest palindrome made from the product of two 2-digit numbers is 9009 = 91 × 99.\n",
    "\n",
    "Find the largest palindrome made from the product of two 3-digit numbers."
   ]
  },
  {
   "cell_type": "code",
   "execution_count": 62,
   "metadata": {
    "collapsed": false
   },
   "outputs": [
    {
     "name": "stdout",
     "output_type": "stream",
     "text": [
      "Trying:\n",
      "    palindrome(9009)\n",
      "Expecting:\n",
      "    True\n",
      "ok\n",
      "Trying:\n",
      "    palindrome(123)\n",
      "Expecting:\n",
      "    False\n",
      "ok\n",
      "Trying:\n",
      "    palindrome(9009)\n",
      "Expecting:\n",
      "    True\n",
      "ok\n",
      "Trying:\n",
      "    palindrome(123)\n",
      "Expecting:\n",
      "    False\n",
      "ok\n",
      "1 items had no tests:\n",
      "    __main__\n",
      "2 items passed all tests:\n",
      "   2 tests in __main__._40\n",
      "   2 tests in __main__.palindrome\n",
      "4 tests in 3 items.\n",
      "4 passed and 0 failed.\n",
      "Test passed.\n"
     ]
    },
    {
     "data": {
      "text/plain": [
       "TestResults(failed=0, attempted=4)"
      ]
     },
     "execution_count": 62,
     "metadata": {},
     "output_type": "execute_result"
    }
   ],
   "source": [
    "def palindrome(number):\n",
    "    \"\"\" Check if a number is a palindrome\n",
    "    \n",
    "    >>> palindrome(9009)\n",
    "    True\n",
    "    >>> palindrome(123)\n",
    "    False\n",
    "    \n",
    "    \"\"\"\n",
    "    # Convert it to a string\n",
    "    numstr = str(number)\n",
    "    # Check if it's the same forwards and backwards\n",
    "    return numstr == numstr[::-1]\n",
    "\n",
    "palindrome\n",
    "\n",
    "doctest.testmod(verbose=True)"
   ]
  },
  {
   "cell_type": "code",
   "execution_count": 52,
   "metadata": {
    "collapsed": false
   },
   "outputs": [
    {
     "data": {
      "text/plain": [
       "True"
      ]
     },
     "execution_count": 52,
     "metadata": {},
     "output_type": "execute_result"
    }
   ],
   "source": [
    "palindrome(9009)"
   ]
  },
  {
   "cell_type": "code",
   "execution_count": 53,
   "metadata": {
    "collapsed": false
   },
   "outputs": [
    {
     "data": {
      "text/plain": [
       "False"
      ]
     },
     "execution_count": 53,
     "metadata": {},
     "output_type": "execute_result"
    }
   ],
   "source": [
    "palindrome(123)"
   ]
  },
  {
   "cell_type": "code",
   "execution_count": 54,
   "metadata": {
    "collapsed": false,
    "scrolled": true
   },
   "outputs": [
    {
     "data": {
      "text/plain": [
       "906609"
      ]
     },
     "execution_count": 54,
     "metadata": {},
     "output_type": "execute_result"
    }
   ],
   "source": [
    "# Now let's actually solve that problem\n",
    "current = 0\n",
    "for i in range(999):\n",
    "    for j in range(999):\n",
    "        prod = i * j\n",
    "        if palindrome(prod):\n",
    "            current = max(current, prod)\n",
    "            \n",
    "current"
   ]
  },
  {
   "cell_type": "code",
   "execution_count": 55,
   "metadata": {
    "collapsed": true
   },
   "outputs": [],
   "source": [
    "# But there's a more elegant way :)\n",
    "import itertools"
   ]
  },
  {
   "cell_type": "code",
   "execution_count": 56,
   "metadata": {
    "collapsed": false
   },
   "outputs": [
    {
     "data": {
      "text/plain": [
       "906609"
      ]
     },
     "execution_count": 56,
     "metadata": {},
     "output_type": "execute_result"
    }
   ],
   "source": [
    "pairs = itertools.product(range(999), range(999))\n",
    "products = (a * b for a, b in pairs)\n",
    "max(p for p in products if palindrome(p))"
   ]
  },
  {
   "cell_type": "markdown",
   "metadata": {},
   "source": [
    "## Slicing\n",
    "\n",
    "numerical indexing to slice an iterable"
   ]
  },
  {
   "cell_type": "code",
   "execution_count": 57,
   "metadata": {
    "collapsed": false
   },
   "outputs": [
    {
     "data": {
      "text/plain": [
       "'abcdef'"
      ]
     },
     "execution_count": 57,
     "metadata": {},
     "output_type": "execute_result"
    }
   ],
   "source": [
    "letters = 'abcdef'\n",
    "letters"
   ]
  },
  {
   "cell_type": "code",
   "execution_count": 58,
   "metadata": {
    "collapsed": false
   },
   "outputs": [
    {
     "data": {
      "text/plain": [
       "'abc'"
      ]
     },
     "execution_count": 58,
     "metadata": {},
     "output_type": "execute_result"
    }
   ],
   "source": [
    "letters[:3]"
   ]
  },
  {
   "cell_type": "code",
   "execution_count": 59,
   "metadata": {
    "collapsed": false
   },
   "outputs": [
    {
     "data": {
      "text/plain": [
       "'ace'"
      ]
     },
     "execution_count": 59,
     "metadata": {},
     "output_type": "execute_result"
    }
   ],
   "source": [
    "letters[::2]"
   ]
  },
  {
   "cell_type": "code",
   "execution_count": 83,
   "metadata": {
    "collapsed": false
   },
   "outputs": [
    {
     "data": {
      "text/plain": [
       "['a', 'b', 'c', 'd', 'e', 'f']"
      ]
     },
     "execution_count": 83,
     "metadata": {},
     "output_type": "execute_result"
    }
   ],
   "source": [
    "# Python generally avoids copies! This is different than R\n",
    "a = list(letters)\n",
    "a"
   ]
  },
  {
   "cell_type": "code",
   "execution_count": 86,
   "metadata": {
    "collapsed": false
   },
   "outputs": [
    {
     "data": {
      "text/plain": [
       "['A', 'b', 'c', 'd', 'e', 'f']"
      ]
     },
     "execution_count": 86,
     "metadata": {},
     "output_type": "execute_result"
    }
   ],
   "source": [
    "# Python also has 0 based indexing- R is 1 based\n",
    "\n",
    "b = a\n",
    "b[0] = 'A'\n",
    "b"
   ]
  },
  {
   "cell_type": "code",
   "execution_count": 85,
   "metadata": {
    "collapsed": false
   },
   "outputs": [
    {
     "data": {
      "text/plain": [
       "['A', 'b', 'c', 'd', 'e', 'f']"
      ]
     },
     "execution_count": 85,
     "metadata": {},
     "output_type": "execute_result"
    }
   ],
   "source": [
    "a"
   ]
  },
  {
   "cell_type": "code",
   "execution_count": 60,
   "metadata": {
    "collapsed": false
   },
   "outputs": [
    {
     "data": {
      "text/plain": [
       "'fedcba'"
      ]
     },
     "execution_count": 60,
     "metadata": {},
     "output_type": "execute_result"
    }
   ],
   "source": [
    "# Reverse a string\n",
    "letters[::-1]"
   ]
  },
  {
   "cell_type": "markdown",
   "metadata": {},
   "source": [
    "# Data Analysis\n",
    "\n",
    "Here is where we need more than the standard library"
   ]
  },
  {
   "cell_type": "code",
   "execution_count": 18,
   "metadata": {
    "collapsed": true
   },
   "outputs": [],
   "source": [
    "# A few preliminaries\n",
    "\n",
    "# Import the data analysis libraries we'll use\n",
    "import matplotlib.pyplot as plt\n",
    "import numpy as np\n",
    "import pandas as pd\n",
    "\n",
    "# Lets us plot\n",
    "%matplotlib inline\n",
    "plt.style.use('ggplot')"
   ]
  },
  {
   "cell_type": "markdown",
   "metadata": {},
   "source": [
    "## Pandas\n",
    "\n",
    "Brings R's `DataFrame` to Python\n",
    "\n",
    "Today we'll download a dataset from STS98, data studies. (Thanks Nick!)\n",
    "\n",
    "http://anson.ucdavis.edu/~nulle/cl_apartments.zip"
   ]
  },
  {
   "cell_type": "code",
   "execution_count": 2,
   "metadata": {
    "collapsed": true
   },
   "outputs": [],
   "source": [
    "import pandas as pd"
   ]
  },
  {
   "cell_type": "code",
   "execution_count": 3,
   "metadata": {
    "collapsed": false
   },
   "outputs": [],
   "source": [
    "apt = pd.read_csv('cl_apartments.csv')"
   ]
  },
  {
   "cell_type": "code",
   "execution_count": 95,
   "metadata": {
    "collapsed": false
   },
   "outputs": [
    {
     "data": {
      "image/png": "[encoded data removed]",
      "text/latex": [
       "$$\\left ( 18084, \\quad 22\\right )$$"
      ],
      "text/plain": [
       "(18084, 22)"
      ]
     },
     "execution_count": 95,
     "metadata": {},
     "output_type": "execute_result"
    }
   ],
   "source": [
    "apt.shape"
   ]
  },
  {
   "cell_type": "code",
   "execution_count": 93,
   "metadata": {
    "collapsed": false
   },
   "outputs": [
    {
     "data": {
      "text/html": [
       "<div>\n",
       "<table border=\"1\" class=\"dataframe\">\n",
       "  <thead>\n",
       "    <tr style=\"text-align: right;\">\n",
       "      <th></th>\n",
       "      <th>title</th>\n",
       "      <th>text</th>\n",
       "      <th>date_posted</th>\n",
       "      <th>date_updated</th>\n",
       "    </tr>\n",
       "  </thead>\n",
       "  <tbody>\n",
       "    <tr>\n",
       "      <th>0</th>\n",
       "      <td>$995 / 3br - 1350ft2 - Lancaster Apartment Uni...</td>\n",
       "      <td>Beautiful Remodeled 3 Bed, 2 Bath House in Wes...</td>\n",
       "      <td>2016-04-13 15:34:06</td>\n",
       "      <td>2016-05-01 15:46:36</td>\n",
       "    </tr>\n",
       "    <tr>\n",
       "      <th>1</th>\n",
       "      <td>$1935 / 2br - 1154ft2 - No place like The Colo...</td>\n",
       "      <td>View Our Captivating Pools, Spa &amp; Picnic Area\\...</td>\n",
       "      <td>2016-04-16 17:55:45</td>\n",
       "      <td>2016-05-01 19:40:19</td>\n",
       "    </tr>\n",
       "    <tr>\n",
       "      <th>2</th>\n",
       "      <td>$1825 / 2br - 1056ft2 - No place like The Colo...</td>\n",
       "      <td>*******Centrally located near Saugus, The Ante...</td>\n",
       "      <td>2016-04-16 17:58:01</td>\n",
       "      <td>2016-05-01 19:39:54</td>\n",
       "    </tr>\n",
       "    <tr>\n",
       "      <th>3</th>\n",
       "      <td>$650 / 1br - FURNISHED 1 BED GUEST QUARTERS, D...</td>\n",
       "      <td>FURNISHED 1 BEDROOM &amp; DEN W/ KITCHENETTE GUEST...</td>\n",
       "      <td>2016-04-17 21:26:15</td>\n",
       "      <td>2016-05-01 12:49:13</td>\n",
       "    </tr>\n",
       "    <tr>\n",
       "      <th>4</th>\n",
       "      <td>$1599 / 2br - 951ft2 - Big Savings!</td>\n",
       "      <td>Accepting applications now.</td>\n",
       "      <td>2016-04-28 11:58:28</td>\n",
       "      <td>2016-05-01 10:44:00</td>\n",
       "    </tr>\n",
       "  </tbody>\n",
       "</table>\n",
       "</div>"
      ],
      "text/plain": [
       "                                               title  \\\n",
       "0  $995 / 3br - 1350ft2 - Lancaster Apartment Uni...   \n",
       "1  $1935 / 2br - 1154ft2 - No place like The Colo...   \n",
       "2  $1825 / 2br - 1056ft2 - No place like The Colo...   \n",
       "3  $650 / 1br - FURNISHED 1 BED GUEST QUARTERS, D...   \n",
       "4                $1599 / 2br - 951ft2 - Big Savings!   \n",
       "\n",
       "                                                text          date_posted  \\\n",
       "0  Beautiful Remodeled 3 Bed, 2 Bath House in Wes...  2016-04-13 15:34:06   \n",
       "1  View Our Captivating Pools, Spa & Picnic Area\\...  2016-04-16 17:55:45   \n",
       "2  *******Centrally located near Saugus, The Ante...  2016-04-16 17:58:01   \n",
       "3  FURNISHED 1 BEDROOM & DEN W/ KITCHENETTE GUEST...  2016-04-17 21:26:15   \n",
       "4                        Accepting applications now.  2016-04-28 11:58:28   \n",
       "\n",
       "          date_updated  \n",
       "0  2016-05-01 15:46:36  \n",
       "1  2016-05-01 19:40:19  \n",
       "2  2016-05-01 19:39:54  \n",
       "3  2016-05-01 12:49:13  \n",
       "4  2016-05-01 10:44:00  "
      ]
     },
     "execution_count": 93,
     "metadata": {},
     "output_type": "execute_result"
    }
   ],
   "source": [
    "apt.iloc[:5, :4]"
   ]
  },
  {
   "cell_type": "code",
   "execution_count": 97,
   "metadata": {
    "collapsed": false
   },
   "outputs": [
    {
     "data": {
      "text/plain": [
       "title            object\n",
       "text             object\n",
       "date_posted      object\n",
       "date_updated     object\n",
       "deleted            bool\n",
       "craigslist       object\n",
       "latitude        float64\n",
       "longitude       float64\n",
       "city             object\n",
       "price           float64\n",
       "date             object\n",
       "sqft            float64\n",
       "bedrooms        float64\n",
       "bathrooms       float64\n",
       "pets             object\n",
       "laundry          object\n",
       "parking          object\n",
       "shp_place        object\n",
       "shp_city         object\n",
       "shp_urban        object\n",
       "shp_county       object\n",
       "shp_state        object\n",
       "dtype: object"
      ]
     },
     "execution_count": 97,
     "metadata": {},
     "output_type": "execute_result"
    }
   ],
   "source": [
    "apt.dtypes"
   ]
  },
  {
   "cell_type": "code",
   "execution_count": 23,
   "metadata": {
    "collapsed": false
   },
   "outputs": [],
   "source": [
    "# Plotting\n",
    "import seaborn as sns"
   ]
  },
  {
   "cell_type": "code",
   "execution_count": 26,
   "metadata": {
    "collapsed": false
   },
   "outputs": [
    {
     "data": {
      "text/plain": [
       "<seaborn.axisgrid.FacetGrid at 0x1225814a8>"
      ]
     },
     "execution_count": 26,
     "metadata": {},
     "output_type": "execute_result"
    },
    {
     "data": {
      "image/png": "[encoded data removed]",
      "text/plain": [
       "<matplotlib.figure.Figure at 0x122581668>"
      ]
     },
     "metadata": {},
     "output_type": "display_data"
    }
   ],
   "source": [
    "sns.lmplot(x='sqft', y='price', data=apt.iloc[200:300, ])"
   ]
  },
  {
   "cell_type": "markdown",
   "metadata": {},
   "source": [
    "## Statistical Modeling"
   ]
  },
  {
   "cell_type": "code",
   "execution_count": 27,
   "metadata": {
    "collapsed": true
   },
   "outputs": [],
   "source": [
    "import statsmodels.formula.api as smf"
   ]
  },
  {
   "cell_type": "code",
   "execution_count": 29,
   "metadata": {
    "collapsed": true
   },
   "outputs": [],
   "source": [
    "smf.OLS?"
   ]
  },
  {
   "cell_type": "code",
   "execution_count": 32,
   "metadata": {
    "collapsed": false
   },
   "outputs": [
    {
     "data": {
      "text/html": [
       "<table class=\"simpletable\">\n",
       "<caption>OLS Regression Results</caption>\n",
       "<tr>\n",
       "  <th>Dep. Variable:</th>          <td>price</td>      <th>  R-squared:         </th>  <td>   0.001</td>  \n",
       "</tr>\n",
       "<tr>\n",
       "  <th>Model:</th>                   <td>OLS</td>       <th>  Adj. R-squared:    </th>  <td>   0.001</td>  \n",
       "</tr>\n",
       "<tr>\n",
       "  <th>Method:</th>             <td>Least Squares</td>  <th>  F-statistic:       </th>  <td>   18.05</td>  \n",
       "</tr>\n",
       "<tr>\n",
       "  <th>Date:</th>             <td>Fri, 20 May 2016</td> <th>  Prob (F-statistic):</th>  <td>2.16e-05</td>  \n",
       "</tr>\n",
       "<tr>\n",
       "  <th>Time:</th>                 <td>22:55:59</td>     <th>  Log-Likelihood:    </th> <td>-1.1169e+05</td>\n",
       "</tr>\n",
       "<tr>\n",
       "  <th>No. Observations:</th>      <td> 13159</td>      <th>  AIC:               </th>  <td>2.234e+05</td> \n",
       "</tr>\n",
       "<tr>\n",
       "  <th>Df Residuals:</th>          <td> 13157</td>      <th>  BIC:               </th>  <td>2.234e+05</td> \n",
       "</tr>\n",
       "<tr>\n",
       "  <th>Df Model:</th>              <td>     1</td>      <th>                     </th>      <td> </td>     \n",
       "</tr>\n",
       "<tr>\n",
       "  <th>Covariance Type:</th>      <td>nonrobust</td>    <th>                     </th>      <td> </td>     \n",
       "</tr>\n",
       "</table>\n",
       "<table class=\"simpletable\">\n",
       "<tr>\n",
       "      <td></td>         <th>coef</th>     <th>std err</th>      <th>t</th>      <th>P>|t|</th> <th>[95.0% Conf. Int.]</th> \n",
       "</tr>\n",
       "<tr>\n",
       "  <th>Intercept</th> <td> 2330.1164</td> <td>   10.514</td> <td>  221.625</td> <td> 0.000</td> <td> 2309.508  2350.725</td>\n",
       "</tr>\n",
       "<tr>\n",
       "  <th>sqft</th>      <td>    0.0108</td> <td>    0.003</td> <td>    4.249</td> <td> 0.000</td> <td>    0.006     0.016</td>\n",
       "</tr>\n",
       "</table>\n",
       "<table class=\"simpletable\">\n",
       "<tr>\n",
       "  <th>Omnibus:</th>       <td>9908.362</td> <th>  Durbin-Watson:     </th>  <td>   1.077</td> \n",
       "</tr>\n",
       "<tr>\n",
       "  <th>Prob(Omnibus):</th>  <td> 0.000</td>  <th>  Jarque-Bera (JB):  </th> <td>536353.862</td>\n",
       "</tr>\n",
       "<tr>\n",
       "  <th>Skew:</th>           <td> 3.111</td>  <th>  Prob(JB):          </th>  <td>    0.00</td> \n",
       "</tr>\n",
       "<tr>\n",
       "  <th>Kurtosis:</th>       <td>33.651</td>  <th>  Cond. No.          </th>  <td>4.26e+03</td> \n",
       "</tr>\n",
       "</table>"
      ],
      "text/plain": [
       "<class 'statsmodels.iolib.summary.Summary'>\n",
       "\"\"\"\n",
       "                            OLS Regression Results                            \n",
       "==============================================================================\n",
       "Dep. Variable:                  price   R-squared:                       0.001\n",
       "Model:                            OLS   Adj. R-squared:                  0.001\n",
       "Method:                 Least Squares   F-statistic:                     18.05\n",
       "Date:                Fri, 20 May 2016   Prob (F-statistic):           2.16e-05\n",
       "Time:                        22:55:59   Log-Likelihood:            -1.1169e+05\n",
       "No. Observations:               13159   AIC:                         2.234e+05\n",
       "Df Residuals:                   13157   BIC:                         2.234e+05\n",
       "Df Model:                           1                                         \n",
       "Covariance Type:            nonrobust                                         \n",
       "==============================================================================\n",
       "                 coef    std err          t      P>|t|      [95.0% Conf. Int.]\n",
       "------------------------------------------------------------------------------\n",
       "Intercept   2330.1164     10.514    221.625      0.000      2309.508  2350.725\n",
       "sqft           0.0108      0.003      4.249      0.000         0.006     0.016\n",
       "==============================================================================\n",
       "Omnibus:                     9908.362   Durbin-Watson:                   1.077\n",
       "Prob(Omnibus):                  0.000   Jarque-Bera (JB):           536353.862\n",
       "Skew:                           3.111   Prob(JB):                         0.00\n",
       "Kurtosis:                      33.651   Cond. No.                     4.26e+03\n",
       "==============================================================================\n",
       "\n",
       "Warnings:\n",
       "[1] Standard Errors assume that the covariance matrix of the errors is correctly specified.\n",
       "[2] The condition number is large, 4.26e+03. This might indicate that there are\n",
       "strong multicollinearity or other numerical problems.\n",
       "\"\"\""
      ]
     },
     "execution_count": 32,
     "metadata": {},
     "output_type": "execute_result"
    }
   ],
   "source": [
    "model = smf.ols('price ~ sqft', data=apt).fit()\n",
    "model.summary()"
   ]
  },
  {
   "cell_type": "markdown",
   "metadata": {},
   "source": [
    "Do highly-populated areas tend to have smaller apartments? If you're unfamiliar with California's cities, it may help to consult this page: https://en.wikipedia.org/wiki/List_of_cities_and_towns_in_California"
   ]
  },
  {
   "cell_type": "markdown",
   "metadata": {},
   "source": [
    "On average, what are the most expensive cities?"
   ]
  },
  {
   "cell_type": "code",
   "execution_count": 99,
   "metadata": {
    "collapsed": false
   },
   "outputs": [
    {
     "data": {
      "text/html": [
       "<div>\n",
       "<table border=\"1\" class=\"dataframe\">\n",
       "  <thead>\n",
       "    <tr style=\"text-align: right;\">\n",
       "      <th></th>\n",
       "      <th>price</th>\n",
       "    </tr>\n",
       "    <tr>\n",
       "      <th>shp_city</th>\n",
       "      <th></th>\n",
       "    </tr>\n",
       "  </thead>\n",
       "  <tbody>\n",
       "    <tr>\n",
       "      <th>Piedmont</th>\n",
       "      <td>7300.0</td>\n",
       "    </tr>\n",
       "    <tr>\n",
       "      <th>San Marino</th>\n",
       "      <td>6900.0</td>\n",
       "    </tr>\n",
       "    <tr>\n",
       "      <th>Belvedere</th>\n",
       "      <td>6500.0</td>\n",
       "    </tr>\n",
       "    <tr>\n",
       "      <th>Beverly Hills</th>\n",
       "      <td>4325.0</td>\n",
       "    </tr>\n",
       "    <tr>\n",
       "      <th>Los Altos</th>\n",
       "      <td>3617.5</td>\n",
       "    </tr>\n",
       "    <tr>\n",
       "      <th>Woodside</th>\n",
       "      <td>3600.0</td>\n",
       "    </tr>\n",
       "    <tr>\n",
       "      <th>Manhattan Beach</th>\n",
       "      <td>3500.0</td>\n",
       "    </tr>\n",
       "    <tr>\n",
       "      <th>Culver City</th>\n",
       "      <td>3493.5</td>\n",
       "    </tr>\n",
       "    <tr>\n",
       "      <th>Tiburon</th>\n",
       "      <td>3479.0</td>\n",
       "    </tr>\n",
       "    <tr>\n",
       "      <th>San Francisco</th>\n",
       "      <td>3400.0</td>\n",
       "    </tr>\n",
       "    <tr>\n",
       "      <th>El Segundo</th>\n",
       "      <td>3200.0</td>\n",
       "    </tr>\n",
       "    <tr>\n",
       "      <th>Foster City</th>\n",
       "      <td>3168.0</td>\n",
       "    </tr>\n",
       "    <tr>\n",
       "      <th>Millbrae</th>\n",
       "      <td>3122.0</td>\n",
       "    </tr>\n",
       "    <tr>\n",
       "      <th>Larkspur</th>\n",
       "      <td>3100.0</td>\n",
       "    </tr>\n",
       "    <tr>\n",
       "      <th>Santa Monica</th>\n",
       "      <td>3097.0</td>\n",
       "    </tr>\n",
       "  </tbody>\n",
       "</table>\n",
       "</div>"
      ],
      "text/plain": [
       "                  price\n",
       "shp_city               \n",
       "Piedmont         7300.0\n",
       "San Marino       6900.0\n",
       "Belvedere        6500.0\n",
       "Beverly Hills    4325.0\n",
       "Los Altos        3617.5\n",
       "Woodside         3600.0\n",
       "Manhattan Beach  3500.0\n",
       "Culver City      3493.5\n",
       "Tiburon          3479.0\n",
       "San Francisco    3400.0\n",
       "El Segundo       3200.0\n",
       "Foster City      3168.0\n",
       "Millbrae         3122.0\n",
       "Larkspur         3100.0\n",
       "Santa Monica     3097.0"
      ]
     },
     "execution_count": 99,
     "metadata": {},
     "output_type": "execute_result"
    }
   ],
   "source": [
    "# Method chaining code can be easier to read.\n",
    "# Similar to pipes\n",
    "\n",
    "(apt2.loc[:, ['shp_city', 'price']]\n",
    " .groupby('shp_city')\n",
    " .median()\n",
    " .sort_values('price', ascending=False)\n",
    " .head(15)\n",
    " )"
   ]
  },
  {
   "cell_type": "code",
   "execution_count": 12,
   "metadata": {
    "collapsed": false
   },
   "outputs": [
    {
     "data": {
      "text/plain": [
       "{nan,\n",
       " 'Union City',\n",
       " 'Milpitas',\n",
       " 'Livermore',\n",
       " 'Fairfax',\n",
       " 'San Mateo',\n",
       " 'Belmont',\n",
       " 'Los Altos Hills',\n",
       " 'Woodland',\n",
       " 'Corte Madera',\n",
       " 'Tiburon',\n",
       " 'Chula Vista',\n",
       " 'Orinda',\n",
       " 'Monterey Park',\n",
       " 'South San Francisco',\n",
       " 'Truckee',\n",
       " 'Ross',\n",
       " 'Placerville',\n",
       " 'Pittsburg',\n",
       " 'Brea',\n",
       " 'Anaheim',\n",
       " 'Yuba City',\n",
       " 'Bellflower',\n",
       " 'Antioch',\n",
       " 'Manteca',\n",
       " 'Azusa',\n",
       " 'Suisun City',\n",
       " 'Lakewood',\n",
       " 'West Covina',\n",
       " 'Woodside',\n",
       " 'Palmdale',\n",
       " 'Isleton',\n",
       " 'Danville',\n",
       " 'Dublin',\n",
       " 'Burbank',\n",
       " 'Sebastopol',\n",
       " 'Encinitas',\n",
       " 'Fairfield',\n",
       " 'San Dimas',\n",
       " 'Vacaville',\n",
       " 'Riverside',\n",
       " 'Alhambra',\n",
       " 'Hesperia',\n",
       " 'Seal Beach',\n",
       " 'Lancaster',\n",
       " 'Healdsburg',\n",
       " 'Redondo Beach',\n",
       " 'Pasadena',\n",
       " 'Poway',\n",
       " 'Carlsbad',\n",
       " 'Pleasanton',\n",
       " 'Albany',\n",
       " 'Sunnyvale',\n",
       " 'Coronado',\n",
       " 'Windsor',\n",
       " 'Emeryville',\n",
       " 'Solana Beach',\n",
       " 'Glendora',\n",
       " 'San Anselmo',\n",
       " 'Covina',\n",
       " 'San Ramon',\n",
       " 'Larkspur',\n",
       " 'Upland',\n",
       " 'Calabasas',\n",
       " 'Davis',\n",
       " 'Culver City',\n",
       " 'Sausalito',\n",
       " 'Ukiah',\n",
       " 'Folsom',\n",
       " 'Inglewood',\n",
       " 'Marysville',\n",
       " 'Brisbane',\n",
       " 'Industry',\n",
       " 'Tracy',\n",
       " 'Rocklin',\n",
       " 'Calistoga',\n",
       " 'Palm Desert',\n",
       " 'Napa',\n",
       " 'Foster City',\n",
       " 'Rancho Cordova',\n",
       " 'Long Beach',\n",
       " 'Oceanside',\n",
       " 'Lemon Grove',\n",
       " 'Santa Monica',\n",
       " 'Martinez',\n",
       " 'La Mesa',\n",
       " 'Roseville',\n",
       " 'St. Helena',\n",
       " 'Menlo Park',\n",
       " 'Burlingame',\n",
       " 'Lafayette',\n",
       " 'East Palo Alto',\n",
       " 'Stockton',\n",
       " 'Whittier',\n",
       " 'Cerritos',\n",
       " 'National City',\n",
       " 'Garden Grove',\n",
       " 'El Monte',\n",
       " 'Santee',\n",
       " 'Gardena',\n",
       " 'Arcadia',\n",
       " 'El Cajon',\n",
       " 'Auburn',\n",
       " 'San Marino',\n",
       " 'Cotati',\n",
       " 'Gilroy',\n",
       " 'Petaluma',\n",
       " 'Lomita',\n",
       " 'Cupertino',\n",
       " 'Cloverdale',\n",
       " 'San Pablo',\n",
       " 'Glendale',\n",
       " 'Santa Rosa',\n",
       " 'San Carlos',\n",
       " 'Vallejo',\n",
       " 'Santa Ana',\n",
       " 'Palo Alto',\n",
       " 'Murrieta',\n",
       " 'Yountville',\n",
       " 'Belvedere',\n",
       " 'Pacifica',\n",
       " 'Moraga',\n",
       " 'Morgan Hill',\n",
       " 'Saratoga',\n",
       " 'Hollister',\n",
       " 'Mountain View',\n",
       " 'Newark',\n",
       " 'Sacramento',\n",
       " 'Carson',\n",
       " 'Escondido',\n",
       " 'San Marcos',\n",
       " 'Vista',\n",
       " 'Monrovia',\n",
       " 'Oakley',\n",
       " 'South Pasadena',\n",
       " 'Piedmont',\n",
       " 'Rancho Cucamonga',\n",
       " 'Irvine',\n",
       " 'West Sacramento',\n",
       " 'Fremont',\n",
       " 'La Verne',\n",
       " 'San Francisco',\n",
       " 'Claremont',\n",
       " 'American Canyon',\n",
       " 'Del Mar',\n",
       " 'Lincoln',\n",
       " 'Sierra Madre',\n",
       " 'San Jose',\n",
       " 'Hawthorne',\n",
       " 'Hermosa Beach',\n",
       " 'Los Angeles',\n",
       " 'El Cerrito',\n",
       " 'Manhattan Beach',\n",
       " 'Pinole',\n",
       " 'Torrance',\n",
       " 'San Leandro',\n",
       " 'Downey',\n",
       " 'San Bruno',\n",
       " 'Concord',\n",
       " 'Lake Elsinore',\n",
       " 'Hercules',\n",
       " 'Millbrae',\n",
       " 'Grass Valley',\n",
       " 'Baldwin Park',\n",
       " 'Agoura Hills',\n",
       " 'Oakland',\n",
       " 'El Segundo',\n",
       " 'San Clemente',\n",
       " 'Imperial Beach',\n",
       " 'Richmond',\n",
       " 'West Hollywood',\n",
       " 'Dixon',\n",
       " 'Novato',\n",
       " 'Colma',\n",
       " 'Santa Clarita',\n",
       " 'Atherton',\n",
       " 'Yreka',\n",
       " 'Pomona',\n",
       " 'Berkeley',\n",
       " 'Mill Valley',\n",
       " 'Los Altos',\n",
       " 'Hillsborough',\n",
       " 'Bell Gardens',\n",
       " 'Fullerton',\n",
       " 'Benicia',\n",
       " 'Los Gatos',\n",
       " 'San Diego',\n",
       " 'Walnut Creek',\n",
       " 'Rohnert Park',\n",
       " 'Norwalk',\n",
       " 'San Rafael',\n",
       " 'Pleasant Hill',\n",
       " 'Temecula',\n",
       " 'Half Moon Bay',\n",
       " 'Daly City',\n",
       " 'Sonoma',\n",
       " 'Campbell',\n",
       " 'Alameda',\n",
       " 'Redwood City',\n",
       " 'Elk Grove',\n",
       " 'Hayward',\n",
       " 'Montebello',\n",
       " 'Beverly Hills',\n",
       " 'Santa Clara',\n",
       " 'Clearlake',\n",
       " 'Citrus Heights'}"
      ]
     },
     "execution_count": 12,
     "metadata": {},
     "output_type": "execute_result"
    }
   ],
   "source": [
    "set(apt.shp_city)"
   ]
  },
  {
   "cell_type": "code",
   "execution_count": 4,
   "metadata": {
    "collapsed": false
   },
   "outputs": [],
   "source": [
    "# Let's scrape the web!\n",
    "cali = pd.read_html('https://en.wikipedia.org/wiki/List_of_cities_and_towns_in_California')"
   ]
  },
  {
   "cell_type": "code",
   "execution_count": 5,
   "metadata": {
    "collapsed": false
   },
   "outputs": [
    {
     "data": {
      "text/plain": [
       "list"
      ]
     },
     "execution_count": 5,
     "metadata": {},
     "output_type": "execute_result"
    }
   ],
   "source": [
    "# Always know what your data types are\n",
    "type(cali)"
   ]
  },
  {
   "cell_type": "code",
   "execution_count": 6,
   "metadata": {
    "collapsed": false
   },
   "outputs": [
    {
     "data": {
      "text/plain": [
       "7"
      ]
     },
     "execution_count": 6,
     "metadata": {},
     "output_type": "execute_result"
    }
   ],
   "source": [
    "len(cali)"
   ]
  },
  {
   "cell_type": "code",
   "execution_count": 9,
   "metadata": {
    "collapsed": false,
    "scrolled": true
   },
   "outputs": [
    {
     "data": {
      "text/plain": [
       "[(1, 2), (485, 7), (1, 2), (8, 11), (7, 2), (14, 19), (13, 2)]"
      ]
     },
     "execution_count": 9,
     "metadata": {},
     "output_type": "execute_result"
    }
   ],
   "source": [
    "[x.shape for x in cali]"
   ]
  },
  {
   "cell_type": "code",
   "execution_count": 11,
   "metadata": {
    "collapsed": false
   },
   "outputs": [
    {
     "data": {
      "text/html": [
       "<div>\n",
       "<table border=\"1\" class=\"dataframe\">\n",
       "  <thead>\n",
       "    <tr style=\"text-align: right;\">\n",
       "      <th></th>\n",
       "      <th>0</th>\n",
       "      <th>1</th>\n",
       "      <th>2</th>\n",
       "      <th>3</th>\n",
       "      <th>4</th>\n",
       "      <th>5</th>\n",
       "      <th>6</th>\n",
       "    </tr>\n",
       "  </thead>\n",
       "  <tbody>\n",
       "    <tr>\n",
       "      <th>0</th>\n",
       "      <td>Name</td>\n",
       "      <td>Type</td>\n",
       "      <td>County</td>\n",
       "      <td>Population (2010)[1][7][8]</td>\n",
       "      <td>Land area[1]</td>\n",
       "      <td>Incorporated[6]</td>\n",
       "      <td>NaN</td>\n",
       "    </tr>\n",
       "    <tr>\n",
       "      <th>1</th>\n",
       "      <td>sq mi</td>\n",
       "      <td>km2</td>\n",
       "      <td>NaN</td>\n",
       "      <td>NaN</td>\n",
       "      <td>NaN</td>\n",
       "      <td>NaN</td>\n",
       "      <td>NaN</td>\n",
       "    </tr>\n",
       "    <tr>\n",
       "      <th>2</th>\n",
       "      <td>Adelanto</td>\n",
       "      <td>City</td>\n",
       "      <td>San Bernardino</td>\n",
       "      <td>31765</td>\n",
       "      <td>56.01</td>\n",
       "      <td>145.1</td>\n",
       "      <td>000000001970-12-22-0000December 22, 1970</td>\n",
       "    </tr>\n",
       "    <tr>\n",
       "      <th>3</th>\n",
       "      <td>Agoura Hills</td>\n",
       "      <td>City</td>\n",
       "      <td>Los Angeles</td>\n",
       "      <td>20330</td>\n",
       "      <td>7.79</td>\n",
       "      <td>20.2</td>\n",
       "      <td>000000001982-12-08-0000December 8, 1982</td>\n",
       "    </tr>\n",
       "    <tr>\n",
       "      <th>4</th>\n",
       "      <td>Alameda</td>\n",
       "      <td>City</td>\n",
       "      <td>Alameda</td>\n",
       "      <td>73812</td>\n",
       "      <td>10.61</td>\n",
       "      <td>27.5</td>\n",
       "      <td>000000001854-04-19-0000April 19, 1854</td>\n",
       "    </tr>\n",
       "  </tbody>\n",
       "</table>\n",
       "</div>"
      ],
      "text/plain": [
       "              0     1               2                           3  \\\n",
       "0          Name  Type          County  Population (2010)[1][7][8]   \n",
       "1         sq mi   km2             NaN                         NaN   \n",
       "2      Adelanto  City  San Bernardino                       31765   \n",
       "3  Agoura Hills  City     Los Angeles                       20330   \n",
       "4       Alameda  City         Alameda                       73812   \n",
       "\n",
       "              4                5                                         6  \n",
       "0  Land area[1]  Incorporated[6]                                       NaN  \n",
       "1           NaN              NaN                                       NaN  \n",
       "2         56.01            145.1  000000001970-12-22-0000December 22, 1970  \n",
       "3          7.79             20.2   000000001982-12-08-0000December 8, 1982  \n",
       "4         10.61             27.5     000000001854-04-19-0000April 19, 1854  "
      ]
     },
     "execution_count": 11,
     "metadata": {},
     "output_type": "execute_result"
    }
   ],
   "source": [
    "cities = cali[1]\n",
    "cities.head()"
   ]
  },
  {
   "cell_type": "code",
   "execution_count": 37,
   "metadata": {
    "collapsed": true
   },
   "outputs": [],
   "source": [
    "?c2.astype"
   ]
  },
  {
   "cell_type": "code",
   "execution_count": 72,
   "metadata": {
    "collapsed": false
   },
   "outputs": [
    {
     "data": {
      "text/html": [
       "<div>\n",
       "<table border=\"1\" class=\"dataframe\">\n",
       "  <thead>\n",
       "    <tr style=\"text-align: right;\">\n",
       "      <th></th>\n",
       "      <th>shp_city</th>\n",
       "      <th>population</th>\n",
       "      <th>land</th>\n",
       "    </tr>\n",
       "  </thead>\n",
       "  <tbody>\n",
       "    <tr>\n",
       "      <th>2</th>\n",
       "      <td>Adelanto</td>\n",
       "      <td>31765</td>\n",
       "      <td>56.01</td>\n",
       "    </tr>\n",
       "    <tr>\n",
       "      <th>3</th>\n",
       "      <td>Agoura Hills</td>\n",
       "      <td>20330</td>\n",
       "      <td>7.79</td>\n",
       "    </tr>\n",
       "    <tr>\n",
       "      <th>4</th>\n",
       "      <td>Alameda</td>\n",
       "      <td>73812</td>\n",
       "      <td>10.61</td>\n",
       "    </tr>\n",
       "    <tr>\n",
       "      <th>5</th>\n",
       "      <td>Albany</td>\n",
       "      <td>18539</td>\n",
       "      <td>1.79</td>\n",
       "    </tr>\n",
       "    <tr>\n",
       "      <th>6</th>\n",
       "      <td>Alhambra</td>\n",
       "      <td>83089</td>\n",
       "      <td>7.63</td>\n",
       "    </tr>\n",
       "  </tbody>\n",
       "</table>\n",
       "</div>"
      ],
      "text/plain": [
       "       shp_city population   land\n",
       "2      Adelanto      31765  56.01\n",
       "3  Agoura Hills      20330   7.79\n",
       "4       Alameda      73812  10.61\n",
       "5        Albany      18539   1.79\n",
       "6      Alhambra      83089   7.63"
      ]
     },
     "execution_count": 72,
     "metadata": {},
     "output_type": "execute_result"
    }
   ],
   "source": [
    "c2 = cities.iloc[2:, [0, 3, 4]]\n",
    "c2.columns = ['shp_city', 'population', 'land']\n",
    "\n",
    "c2.head()"
   ]
  },
  {
   "cell_type": "code",
   "execution_count": 65,
   "metadata": {
    "collapsed": false
   },
   "outputs": [
    {
     "data": {
      "text/plain": [
       "'123400'"
      ]
     },
     "execution_count": 65,
     "metadata": {},
     "output_type": "execute_result"
    }
   ],
   "source": [
    "# Footnotes and commas in HTML! Dang!\n",
    "import re\n",
    "x = '123,400[8]'\n",
    "pattern = re.compile(r',|\\[[0-9]*\\]')\n",
    "re.sub(pattern, '', x, count=5)"
   ]
  },
  {
   "cell_type": "markdown",
   "metadata": {},
   "source": [
    "`lambda` just means make a function in one line."
   ]
  },
  {
   "cell_type": "code",
   "execution_count": 73,
   "metadata": {
    "collapsed": false
   },
   "outputs": [],
   "source": [
    "c2[['population', 'land']] = (c2[['population', 'land']]\n",
    "            .applymap(lambda x: re.sub(pattern, '', x))\n",
    "            .astype('float64')\n",
    "            )"
   ]
  },
  {
   "cell_type": "code",
   "execution_count": 77,
   "metadata": {
    "collapsed": true
   },
   "outputs": [],
   "source": [
    "c2['density'] = c2['population'] / c2['land']"
   ]
  },
  {
   "cell_type": "code",
   "execution_count": 78,
   "metadata": {
    "collapsed": false
   },
   "outputs": [
    {
     "data": {
      "text/plain": [
       "shp_city       object\n",
       "population    float64\n",
       "land          float64\n",
       "density       float64\n",
       "dtype: object"
      ]
     },
     "execution_count": 78,
     "metadata": {},
     "output_type": "execute_result"
    }
   ],
   "source": [
    "c2.dtypes"
   ]
  },
  {
   "cell_type": "markdown",
   "metadata": {},
   "source": [
    "Now we're ready to join it into the main table"
   ]
  },
  {
   "cell_type": "code",
   "execution_count": 87,
   "metadata": {
    "collapsed": false
   },
   "outputs": [
    {
     "data": {
      "text/plain": [
       "(15245, 25)"
      ]
     },
     "execution_count": 87,
     "metadata": {},
     "output_type": "execute_result"
    }
   ],
   "source": [
    "apt2 = pd.merge(apt, c2)\n",
    "apt2.shape"
   ]
  },
  {
   "cell_type": "code",
   "execution_count": 116,
   "metadata": {
    "collapsed": false
   },
   "outputs": [
    {
     "data": {
      "text/plain": [
       "0"
      ]
     },
     "execution_count": 116,
     "metadata": {},
     "output_type": "execute_result"
    }
   ],
   "source": [
    "# Better check how well this worked\n",
    "sum(apt2.population.isnull())"
   ]
  },
  {
   "cell_type": "markdown",
   "metadata": {},
   "source": [
    "Recall the question: Do highly-populated areas tend to have smaller apartments?"
   ]
  },
  {
   "cell_type": "code",
   "execution_count": 113,
   "metadata": {
    "collapsed": false
   },
   "outputs": [
    {
     "data": {
      "text/plain": [
       "0.0037722587722730811"
      ]
     },
     "execution_count": 113,
     "metadata": {},
     "output_type": "execute_result"
    }
   ],
   "source": [
    "apt2.sqft.corr(apt2.population)"
   ]
  },
  {
   "cell_type": "code",
   "execution_count": 114,
   "metadata": {
    "collapsed": false
   },
   "outputs": [
    {
     "data": {
      "text/plain": [
       "0.027354362941064529"
      ]
     },
     "execution_count": 114,
     "metadata": {},
     "output_type": "execute_result"
    }
   ],
   "source": [
    "apt2.sqft.corr(apt2.density)"
   ]
  },
  {
   "cell_type": "markdown",
   "metadata": {},
   "source": [
    "Common sense check- what are the most densely populated cities in California?"
   ]
  },
  {
   "cell_type": "code",
   "execution_count": 112,
   "metadata": {
    "collapsed": false
   },
   "outputs": [
    {
     "data": {
      "text/html": [
       "<div>\n",
       "<table border=\"1\" class=\"dataframe\">\n",
       "  <thead>\n",
       "    <tr style=\"text-align: right;\">\n",
       "      <th></th>\n",
       "      <th>shp_city</th>\n",
       "      <th>population</th>\n",
       "      <th>land</th>\n",
       "      <th>density</th>\n",
       "    </tr>\n",
       "  </thead>\n",
       "  <tbody>\n",
       "    <tr>\n",
       "      <th>373</th>\n",
       "      <td>San Francisco</td>\n",
       "      <td>805235.0</td>\n",
       "      <td>46.87</td>\n",
       "      <td>17180.179219</td>\n",
       "    </tr>\n",
       "    <tr>\n",
       "      <th>105</th>\n",
       "      <td>Daly City</td>\n",
       "      <td>101123.0</td>\n",
       "      <td>7.66</td>\n",
       "      <td>13201.436031</td>\n",
       "    </tr>\n",
       "    <tr>\n",
       "      <th>193</th>\n",
       "      <td>Inglewood</td>\n",
       "      <td>109673.0</td>\n",
       "      <td>9.07</td>\n",
       "      <td>12091.841235</td>\n",
       "    </tr>\n",
       "    <tr>\n",
       "      <th>390</th>\n",
       "      <td>Santa Ana</td>\n",
       "      <td>324528.0</td>\n",
       "      <td>27.27</td>\n",
       "      <td>11900.550055</td>\n",
       "    </tr>\n",
       "    <tr>\n",
       "      <th>127</th>\n",
       "      <td>El Monte</td>\n",
       "      <td>113475.0</td>\n",
       "      <td>9.56</td>\n",
       "      <td>11869.769874</td>\n",
       "    </tr>\n",
       "    <tr>\n",
       "      <th>290</th>\n",
       "      <td>Norwalk</td>\n",
       "      <td>105549.0</td>\n",
       "      <td>9.71</td>\n",
       "      <td>10870.133883</td>\n",
       "    </tr>\n",
       "    <tr>\n",
       "      <th>39</th>\n",
       "      <td>Berkeley</td>\n",
       "      <td>112580.0</td>\n",
       "      <td>10.47</td>\n",
       "      <td>10752.626552</td>\n",
       "    </tr>\n",
       "    <tr>\n",
       "      <th>155</th>\n",
       "      <td>Garden Grove</td>\n",
       "      <td>170883.0</td>\n",
       "      <td>17.94</td>\n",
       "      <td>9525.250836</td>\n",
       "    </tr>\n",
       "    <tr>\n",
       "      <th>237</th>\n",
       "      <td>Long Beach</td>\n",
       "      <td>462257.0</td>\n",
       "      <td>50.29</td>\n",
       "      <td>9191.827401</td>\n",
       "    </tr>\n",
       "    <tr>\n",
       "      <th>118</th>\n",
       "      <td>Downey</td>\n",
       "      <td>111772.0</td>\n",
       "      <td>12.41</td>\n",
       "      <td>9006.607575</td>\n",
       "    </tr>\n",
       "    <tr>\n",
       "      <th>242</th>\n",
       "      <td>Los Angeles</td>\n",
       "      <td>3792621.0</td>\n",
       "      <td>468.67</td>\n",
       "      <td>8092.305887</td>\n",
       "    </tr>\n",
       "    <tr>\n",
       "      <th>303</th>\n",
       "      <td>Oxnard</td>\n",
       "      <td>197899.0</td>\n",
       "      <td>26.89</td>\n",
       "      <td>7359.576051</td>\n",
       "    </tr>\n",
       "    <tr>\n",
       "      <th>436</th>\n",
       "      <td>Torrance</td>\n",
       "      <td>145538.0</td>\n",
       "      <td>20.48</td>\n",
       "      <td>7106.347656</td>\n",
       "    </tr>\n",
       "    <tr>\n",
       "      <th>185</th>\n",
       "      <td>Huntington Beach</td>\n",
       "      <td>189992.0</td>\n",
       "      <td>26.75</td>\n",
       "      <td>7102.504673</td>\n",
       "    </tr>\n",
       "    <tr>\n",
       "      <th>97</th>\n",
       "      <td>Costa Mesa</td>\n",
       "      <td>109960.0</td>\n",
       "      <td>15.65</td>\n",
       "      <td>7026.198083</td>\n",
       "    </tr>\n",
       "    <tr>\n",
       "      <th>293</th>\n",
       "      <td>Oakland</td>\n",
       "      <td>390724.0</td>\n",
       "      <td>55.79</td>\n",
       "      <td>7003.477326</td>\n",
       "    </tr>\n",
       "    <tr>\n",
       "      <th>11</th>\n",
       "      <td>Anaheim</td>\n",
       "      <td>336265.0</td>\n",
       "      <td>49.84</td>\n",
       "      <td>6746.890048</td>\n",
       "    </tr>\n",
       "    <tr>\n",
       "      <th>462</th>\n",
       "      <td>West Covina</td>\n",
       "      <td>106098.0</td>\n",
       "      <td>16.04</td>\n",
       "      <td>6614.588529</td>\n",
       "    </tr>\n",
       "    <tr>\n",
       "      <th>330</th>\n",
       "      <td>Pomona</td>\n",
       "      <td>149058.0</td>\n",
       "      <td>22.95</td>\n",
       "      <td>6494.901961</td>\n",
       "    </tr>\n",
       "    <tr>\n",
       "      <th>364</th>\n",
       "      <td>Salinas</td>\n",
       "      <td>150441.0</td>\n",
       "      <td>23.18</td>\n",
       "      <td>6490.120794</td>\n",
       "    </tr>\n",
       "    <tr>\n",
       "      <th>426</th>\n",
       "      <td>Sunnyvale</td>\n",
       "      <td>140081.0</td>\n",
       "      <td>21.99</td>\n",
       "      <td>6370.213734</td>\n",
       "    </tr>\n",
       "    <tr>\n",
       "      <th>392</th>\n",
       "      <td>Santa Clara</td>\n",
       "      <td>116468.0</td>\n",
       "      <td>18.41</td>\n",
       "      <td>6326.344378</td>\n",
       "    </tr>\n",
       "    <tr>\n",
       "      <th>158</th>\n",
       "      <td>Glendale</td>\n",
       "      <td>191719.0</td>\n",
       "      <td>30.45</td>\n",
       "      <td>6296.190476</td>\n",
       "    </tr>\n",
       "    <tr>\n",
       "      <th>153</th>\n",
       "      <td>Fullerton</td>\n",
       "      <td>135161.0</td>\n",
       "      <td>22.35</td>\n",
       "      <td>6047.472036</td>\n",
       "    </tr>\n",
       "    <tr>\n",
       "      <th>314</th>\n",
       "      <td>Pasadena</td>\n",
       "      <td>137122.0</td>\n",
       "      <td>22.97</td>\n",
       "      <td>5969.612538</td>\n",
       "    </tr>\n",
       "    <tr>\n",
       "      <th>53</th>\n",
       "      <td>Burbank</td>\n",
       "      <td>103340.0</td>\n",
       "      <td>17.34</td>\n",
       "      <td>5959.630911</td>\n",
       "    </tr>\n",
       "    <tr>\n",
       "      <th>266</th>\n",
       "      <td>Modesto</td>\n",
       "      <td>201165.0</td>\n",
       "      <td>36.87</td>\n",
       "      <td>5456.061839</td>\n",
       "    </tr>\n",
       "    <tr>\n",
       "      <th>298</th>\n",
       "      <td>Orange</td>\n",
       "      <td>134616.0</td>\n",
       "      <td>24.80</td>\n",
       "      <td>5428.064516</td>\n",
       "    </tr>\n",
       "    <tr>\n",
       "      <th>377</th>\n",
       "      <td>San Jose</td>\n",
       "      <td>945942.0</td>\n",
       "      <td>176.53</td>\n",
       "      <td>5358.533960</td>\n",
       "    </tr>\n",
       "    <tr>\n",
       "      <th>450</th>\n",
       "      <td>Ventura</td>\n",
       "      <td>106433.0</td>\n",
       "      <td>21.65</td>\n",
       "      <td>4916.073903</td>\n",
       "    </tr>\n",
       "    <tr>\n",
       "      <th>...</th>\n",
       "      <td>...</td>\n",
       "      <td>...</td>\n",
       "      <td>...</td>\n",
       "      <td>...</td>\n",
       "    </tr>\n",
       "    <tr>\n",
       "      <th>399</th>\n",
       "      <td>Santa Rosa</td>\n",
       "      <td>167815.0</td>\n",
       "      <td>41.29</td>\n",
       "      <td>4064.301284</td>\n",
       "    </tr>\n",
       "    <tr>\n",
       "      <th>295</th>\n",
       "      <td>Oceanside</td>\n",
       "      <td>167086.0</td>\n",
       "      <td>41.23</td>\n",
       "      <td>4052.534562</td>\n",
       "    </tr>\n",
       "    <tr>\n",
       "      <th>370</th>\n",
       "      <td>San Diego</td>\n",
       "      <td>1301617.0</td>\n",
       "      <td>325.19</td>\n",
       "      <td>4002.635382</td>\n",
       "    </tr>\n",
       "    <tr>\n",
       "      <th>91</th>\n",
       "      <td>Concord</td>\n",
       "      <td>122067.0</td>\n",
       "      <td>30.55</td>\n",
       "      <td>3995.646481</td>\n",
       "    </tr>\n",
       "    <tr>\n",
       "      <th>94</th>\n",
       "      <td>Corona</td>\n",
       "      <td>152374.0</td>\n",
       "      <td>38.83</td>\n",
       "      <td>3924.130827</td>\n",
       "    </tr>\n",
       "    <tr>\n",
       "      <th>133</th>\n",
       "      <td>Escondido</td>\n",
       "      <td>143911.0</td>\n",
       "      <td>36.81</td>\n",
       "      <td>3909.562619</td>\n",
       "    </tr>\n",
       "    <tr>\n",
       "      <th>449</th>\n",
       "      <td>Vallejo</td>\n",
       "      <td>115942.0</td>\n",
       "      <td>30.67</td>\n",
       "      <td>3780.306488</td>\n",
       "    </tr>\n",
       "    <tr>\n",
       "      <th>276</th>\n",
       "      <td>Moreno Valley</td>\n",
       "      <td>193365.0</td>\n",
       "      <td>51.27</td>\n",
       "      <td>3771.503803</td>\n",
       "    </tr>\n",
       "    <tr>\n",
       "      <th>354</th>\n",
       "      <td>Riverside</td>\n",
       "      <td>303871.0</td>\n",
       "      <td>81.14</td>\n",
       "      <td>3745.020951</td>\n",
       "    </tr>\n",
       "    <tr>\n",
       "      <th>129</th>\n",
       "      <td>Elk Grove</td>\n",
       "      <td>153015.0</td>\n",
       "      <td>42.19</td>\n",
       "      <td>3626.807300</td>\n",
       "    </tr>\n",
       "    <tr>\n",
       "      <th>14</th>\n",
       "      <td>Antioch</td>\n",
       "      <td>102372.0</td>\n",
       "      <td>28.35</td>\n",
       "      <td>3611.005291</td>\n",
       "    </tr>\n",
       "    <tr>\n",
       "      <th>366</th>\n",
       "      <td>San Bernardino</td>\n",
       "      <td>209924.0</td>\n",
       "      <td>59.20</td>\n",
       "      <td>3546.013514</td>\n",
       "    </tr>\n",
       "    <tr>\n",
       "      <th>348</th>\n",
       "      <td>Richmond</td>\n",
       "      <td>103701.0</td>\n",
       "      <td>30.07</td>\n",
       "      <td>3448.653143</td>\n",
       "    </tr>\n",
       "    <tr>\n",
       "      <th>454</th>\n",
       "      <td>Visalia</td>\n",
       "      <td>124442.0</td>\n",
       "      <td>36.25</td>\n",
       "      <td>3432.882759</td>\n",
       "    </tr>\n",
       "    <tr>\n",
       "      <th>393</th>\n",
       "      <td>Santa Clarita</td>\n",
       "      <td>176320.0</td>\n",
       "      <td>52.72</td>\n",
       "      <td>3344.461305</td>\n",
       "    </tr>\n",
       "    <tr>\n",
       "      <th>432</th>\n",
       "      <td>Temecula</td>\n",
       "      <td>100097.0</td>\n",
       "      <td>30.15</td>\n",
       "      <td>3319.966833</td>\n",
       "    </tr>\n",
       "    <tr>\n",
       "      <th>297</th>\n",
       "      <td>Ontario</td>\n",
       "      <td>163924.0</td>\n",
       "      <td>49.94</td>\n",
       "      <td>3282.418903</td>\n",
       "    </tr>\n",
       "    <tr>\n",
       "      <th>360</th>\n",
       "      <td>Roseville</td>\n",
       "      <td>118788.0</td>\n",
       "      <td>36.22</td>\n",
       "      <td>3279.624517</td>\n",
       "    </tr>\n",
       "    <tr>\n",
       "      <th>196</th>\n",
       "      <td>Irvine</td>\n",
       "      <td>212375.0</td>\n",
       "      <td>66.11</td>\n",
       "      <td>3212.448949</td>\n",
       "    </tr>\n",
       "    <tr>\n",
       "      <th>173</th>\n",
       "      <td>Hayward</td>\n",
       "      <td>144186.0</td>\n",
       "      <td>45.32</td>\n",
       "      <td>3181.509267</td>\n",
       "    </tr>\n",
       "    <tr>\n",
       "      <th>281</th>\n",
       "      <td>Murrieta</td>\n",
       "      <td>103466.0</td>\n",
       "      <td>33.58</td>\n",
       "      <td>3081.179273</td>\n",
       "    </tr>\n",
       "    <tr>\n",
       "      <th>412</th>\n",
       "      <td>Simi Valley</td>\n",
       "      <td>124237.0</td>\n",
       "      <td>41.48</td>\n",
       "      <td>2995.106075</td>\n",
       "    </tr>\n",
       "    <tr>\n",
       "      <th>138</th>\n",
       "      <td>Fairfield</td>\n",
       "      <td>105321.0</td>\n",
       "      <td>37.39</td>\n",
       "      <td>2816.822680</td>\n",
       "    </tr>\n",
       "    <tr>\n",
       "      <th>65</th>\n",
       "      <td>Carlsbad</td>\n",
       "      <td>105328.0</td>\n",
       "      <td>37.72</td>\n",
       "      <td>2792.364793</td>\n",
       "    </tr>\n",
       "    <tr>\n",
       "      <th>151</th>\n",
       "      <td>Fremont</td>\n",
       "      <td>214089.0</td>\n",
       "      <td>77.46</td>\n",
       "      <td>2763.865221</td>\n",
       "    </tr>\n",
       "    <tr>\n",
       "      <th>28</th>\n",
       "      <td>Bakersfield</td>\n",
       "      <td>347483.0</td>\n",
       "      <td>142.16</td>\n",
       "      <td>2444.309229</td>\n",
       "    </tr>\n",
       "    <tr>\n",
       "      <th>434</th>\n",
       "      <td>Thousand Oaks</td>\n",
       "      <td>126683.0</td>\n",
       "      <td>55.03</td>\n",
       "      <td>2302.071597</td>\n",
       "    </tr>\n",
       "    <tr>\n",
       "      <th>222</th>\n",
       "      <td>Lancaster</td>\n",
       "      <td>156633.0</td>\n",
       "      <td>94.28</td>\n",
       "      <td>1661.359779</td>\n",
       "    </tr>\n",
       "    <tr>\n",
       "      <th>452</th>\n",
       "      <td>Victorville</td>\n",
       "      <td>115903.0</td>\n",
       "      <td>73.18</td>\n",
       "      <td>1583.807051</td>\n",
       "    </tr>\n",
       "    <tr>\n",
       "      <th>308</th>\n",
       "      <td>Palmdale</td>\n",
       "      <td>152750.0</td>\n",
       "      <td>105.96</td>\n",
       "      <td>1441.581729</td>\n",
       "    </tr>\n",
       "  </tbody>\n",
       "</table>\n",
       "<p>66 rows × 4 columns</p>\n",
       "</div>"
      ],
      "text/plain": [
       "             shp_city  population    land       density\n",
       "373     San Francisco    805235.0   46.87  17180.179219\n",
       "105         Daly City    101123.0    7.66  13201.436031\n",
       "193         Inglewood    109673.0    9.07  12091.841235\n",
       "390         Santa Ana    324528.0   27.27  11900.550055\n",
       "127          El Monte    113475.0    9.56  11869.769874\n",
       "290           Norwalk    105549.0    9.71  10870.133883\n",
       "39           Berkeley    112580.0   10.47  10752.626552\n",
       "155      Garden Grove    170883.0   17.94   9525.250836\n",
       "237        Long Beach    462257.0   50.29   9191.827401\n",
       "118            Downey    111772.0   12.41   9006.607575\n",
       "242       Los Angeles   3792621.0  468.67   8092.305887\n",
       "303            Oxnard    197899.0   26.89   7359.576051\n",
       "436          Torrance    145538.0   20.48   7106.347656\n",
       "185  Huntington Beach    189992.0   26.75   7102.504673\n",
       "97         Costa Mesa    109960.0   15.65   7026.198083\n",
       "293           Oakland    390724.0   55.79   7003.477326\n",
       "11            Anaheim    336265.0   49.84   6746.890048\n",
       "462       West Covina    106098.0   16.04   6614.588529\n",
       "330            Pomona    149058.0   22.95   6494.901961\n",
       "364           Salinas    150441.0   23.18   6490.120794\n",
       "426         Sunnyvale    140081.0   21.99   6370.213734\n",
       "392       Santa Clara    116468.0   18.41   6326.344378\n",
       "158          Glendale    191719.0   30.45   6296.190476\n",
       "153         Fullerton    135161.0   22.35   6047.472036\n",
       "314          Pasadena    137122.0   22.97   5969.612538\n",
       "53            Burbank    103340.0   17.34   5959.630911\n",
       "266           Modesto    201165.0   36.87   5456.061839\n",
       "298            Orange    134616.0   24.80   5428.064516\n",
       "377          San Jose    945942.0  176.53   5358.533960\n",
       "450           Ventura    106433.0   21.65   4916.073903\n",
       "..                ...         ...     ...           ...\n",
       "399        Santa Rosa    167815.0   41.29   4064.301284\n",
       "295         Oceanside    167086.0   41.23   4052.534562\n",
       "370         San Diego   1301617.0  325.19   4002.635382\n",
       "91            Concord    122067.0   30.55   3995.646481\n",
       "94             Corona    152374.0   38.83   3924.130827\n",
       "133         Escondido    143911.0   36.81   3909.562619\n",
       "449           Vallejo    115942.0   30.67   3780.306488\n",
       "276     Moreno Valley    193365.0   51.27   3771.503803\n",
       "354         Riverside    303871.0   81.14   3745.020951\n",
       "129         Elk Grove    153015.0   42.19   3626.807300\n",
       "14            Antioch    102372.0   28.35   3611.005291\n",
       "366    San Bernardino    209924.0   59.20   3546.013514\n",
       "348          Richmond    103701.0   30.07   3448.653143\n",
       "454           Visalia    124442.0   36.25   3432.882759\n",
       "393     Santa Clarita    176320.0   52.72   3344.461305\n",
       "432          Temecula    100097.0   30.15   3319.966833\n",
       "297           Ontario    163924.0   49.94   3282.418903\n",
       "360         Roseville    118788.0   36.22   3279.624517\n",
       "196            Irvine    212375.0   66.11   3212.448949\n",
       "173           Hayward    144186.0   45.32   3181.509267\n",
       "281          Murrieta    103466.0   33.58   3081.179273\n",
       "412       Simi Valley    124237.0   41.48   2995.106075\n",
       "138         Fairfield    105321.0   37.39   2816.822680\n",
       "65           Carlsbad    105328.0   37.72   2792.364793\n",
       "151           Fremont    214089.0   77.46   2763.865221\n",
       "28        Bakersfield    347483.0  142.16   2444.309229\n",
       "434     Thousand Oaks    126683.0   55.03   2302.071597\n",
       "222         Lancaster    156633.0   94.28   1661.359779\n",
       "452       Victorville    115903.0   73.18   1583.807051\n",
       "308          Palmdale    152750.0  105.96   1441.581729\n",
       "\n",
       "[66 rows x 4 columns]"
      ]
     },
     "execution_count": 112,
     "metadata": {},
     "output_type": "execute_result"
    }
   ],
   "source": [
    "dense = c2.loc[c2.population > 1e5, :].sort_values('density', ascending=False)\n",
    "dense"
   ]
  },
  {
   "cell_type": "code",
   "execution_count": 110,
   "metadata": {
    "collapsed": false
   },
   "outputs": [
    {
     "data": {
      "text/plain": [
       "<matplotlib.axes._subplots.AxesSubplot at 0x125d1fc50>"
      ]
     },
     "execution_count": 110,
     "metadata": {},
     "output_type": "execute_result"
    },
    {
     "data": {
      "image/png": "[encoded data removed]",
      "text/plain": [
       "<matplotlib.figure.Figure at 0x125d22470>"
      ]
     },
     "metadata": {},
     "output_type": "display_data"
    }
   ],
   "source": [
    "dense.plot(x='population', y='density', kind='scatter')"
   ]
  },
  {
   "cell_type": "code",
   "execution_count": 118,
   "metadata": {
    "collapsed": false
   },
   "outputs": [
    {
     "data": {
      "text/plain": [
       "<matplotlib.axes._subplots.AxesSubplot at 0x125576860>"
      ]
     },
     "execution_count": 118,
     "metadata": {},
     "output_type": "execute_result"
    },
    {
     "data": {
      "image/png": "[encoded data removed]",
      "text/plain": [
       "<matplotlib.figure.Figure at 0x125dc8fd0>"
      ]
     },
     "metadata": {},
     "output_type": "display_data"
    }
   ],
   "source": [
    "dense.loc[dense.population < 1e6, :].plot(x='land', y='population', kind='scatter')"
   ]
  },
  {
   "cell_type": "markdown",
   "metadata": {},
   "source": [
    "## Machine Learning\n",
    "\n",
    "We went to all this trouble to get the data, might as well use it!"
   ]
  },
  {
   "cell_type": "code",
   "execution_count": 120,
   "metadata": {
    "collapsed": false
   },
   "outputs": [
    {
     "data": {
      "text/plain": [
       "title            object\n",
       "text             object\n",
       "date_posted      object\n",
       "date_updated     object\n",
       "deleted            bool\n",
       "craigslist       object\n",
       "latitude        float64\n",
       "longitude       float64\n",
       "city             object\n",
       "price           float64\n",
       "date             object\n",
       "sqft            float64\n",
       "bedrooms        float64\n",
       "bathrooms       float64\n",
       "pets             object\n",
       "laundry          object\n",
       "parking          object\n",
       "shp_place        object\n",
       "shp_city         object\n",
       "shp_urban        object\n",
       "shp_county       object\n",
       "shp_state        object\n",
       "population      float64\n",
       "land            float64\n",
       "density         float64\n",
       "dtype: object"
      ]
     },
     "execution_count": 120,
     "metadata": {},
     "output_type": "execute_result"
    }
   ],
   "source": [
    "apt2.dtypes"
   ]
  },
  {
   "cell_type": "markdown",
   "metadata": {},
   "source": [
    "To put it into a machine learning algorithm we need to first take care of all the missing values"
   ]
  },
  {
   "cell_type": "code",
   "execution_count": 155,
   "metadata": {
    "collapsed": false
   },
   "outputs": [
    {
     "data": {
      "text/plain": [
       "(10832, 9)"
      ]
     },
     "execution_count": 155,
     "metadata": {},
     "output_type": "execute_result"
    }
   ],
   "source": [
    "apt3 = apt2.loc[:, ['price', 'latitude', 'longitude', 'sqft', 'bedrooms', 'bathrooms', 'population', 'land', 'density']]\n",
    "nullrows = apt3.isnull().any(axis=1)\n",
    "apt4 = apt3.loc[~nullrows, :]\n",
    "apt4.shape"
   ]
  },
  {
   "cell_type": "code",
   "execution_count": 158,
   "metadata": {
    "collapsed": false
   },
   "outputs": [],
   "source": [
    "X = apt4.iloc[:, 1:].as_matrix()\n",
    "y = apt4.iloc[:, 0].as_matrix()"
   ]
  },
  {
   "cell_type": "code",
   "execution_count": 159,
   "metadata": {
    "collapsed": false
   },
   "outputs": [],
   "source": [
    "from sklearn.ensemble import RandomForestRegressor"
   ]
  },
  {
   "cell_type": "code",
   "execution_count": 160,
   "metadata": {
    "collapsed": false
   },
   "outputs": [],
   "source": [
    "rf = RandomForestRegressor().fit(X, y)"
   ]
  },
  {
   "cell_type": "code",
   "execution_count": 163,
   "metadata": {
    "collapsed": false
   },
   "outputs": [
    {
     "data": {
      "text/plain": [
       "0.96031438731532159"
      ]
     },
     "execution_count": 163,
     "metadata": {},
     "output_type": "execute_result"
    }
   ],
   "source": [
    "rf.score(X, y)"
   ]
  },
  {
   "cell_type": "code",
   "execution_count": 166,
   "metadata": {
    "collapsed": false
   },
   "outputs": [
    {
     "data": {
      "text/html": [
       "<table class=\"simpletable\">\n",
       "<caption>OLS Regression Results</caption>\n",
       "<tr>\n",
       "  <th>Dep. Variable:</th>            <td>y</td>        <th>  R-squared:         </th> <td>   0.895</td> \n",
       "</tr>\n",
       "<tr>\n",
       "  <th>Model:</th>                   <td>OLS</td>       <th>  Adj. R-squared:    </th> <td>   0.895</td> \n",
       "</tr>\n",
       "<tr>\n",
       "  <th>Method:</th>             <td>Least Squares</td>  <th>  F-statistic:       </th> <td>1.150e+04</td>\n",
       "</tr>\n",
       "<tr>\n",
       "  <th>Date:</th>             <td>Sat, 21 May 2016</td> <th>  Prob (F-statistic):</th>  <td>  0.00</td>  \n",
       "</tr>\n",
       "<tr>\n",
       "  <th>Time:</th>                 <td>00:34:39</td>     <th>  Log-Likelihood:    </th> <td> -88815.</td> \n",
       "</tr>\n",
       "<tr>\n",
       "  <th>No. Observations:</th>      <td> 10832</td>      <th>  AIC:               </th> <td>1.776e+05</td>\n",
       "</tr>\n",
       "<tr>\n",
       "  <th>Df Residuals:</th>          <td> 10824</td>      <th>  BIC:               </th> <td>1.777e+05</td>\n",
       "</tr>\n",
       "<tr>\n",
       "  <th>Df Model:</th>              <td>     8</td>      <th>                     </th>     <td> </td>    \n",
       "</tr>\n",
       "<tr>\n",
       "  <th>Covariance Type:</th>      <td>nonrobust</td>    <th>                     </th>     <td> </td>    \n",
       "</tr>\n",
       "</table>\n",
       "<table class=\"simpletable\">\n",
       "<tr>\n",
       "   <td></td>     <th>coef</th>     <th>std err</th>      <th>t</th>      <th>P>|t|</th> <th>[95.0% Conf. Int.]</th> \n",
       "</tr>\n",
       "<tr>\n",
       "  <th>x1</th> <td>  -10.4376</td> <td>    7.983</td> <td>   -1.307</td> <td> 0.191</td> <td>  -26.086     5.211</td>\n",
       "</tr>\n",
       "<tr>\n",
       "  <th>x2</th> <td>   -7.3445</td> <td>    2.517</td> <td>   -2.918</td> <td> 0.004</td> <td>  -12.279    -2.410</td>\n",
       "</tr>\n",
       "<tr>\n",
       "  <th>x3</th> <td>    0.0019</td> <td>    0.002</td> <td>    0.962</td> <td> 0.336</td> <td>   -0.002     0.006</td>\n",
       "</tr>\n",
       "<tr>\n",
       "  <th>x4</th> <td>  303.4792</td> <td>   15.268</td> <td>   19.877</td> <td> 0.000</td> <td>  273.551   333.408</td>\n",
       "</tr>\n",
       "<tr>\n",
       "  <th>x5</th> <td>  503.1857</td> <td>   22.420</td> <td>   22.444</td> <td> 0.000</td> <td>  459.239   547.133</td>\n",
       "</tr>\n",
       "<tr>\n",
       "  <th>x6</th> <td>    0.0001</td> <td> 2.92e-05</td> <td>    4.146</td> <td> 0.000</td> <td> 6.37e-05     0.000</td>\n",
       "</tr>\n",
       "<tr>\n",
       "  <th>x7</th> <td>   -1.6553</td> <td>    0.226</td> <td>   -7.325</td> <td> 0.000</td> <td>   -2.098    -1.212</td>\n",
       "</tr>\n",
       "<tr>\n",
       "  <th>x8</th> <td>    0.1364</td> <td>    0.003</td> <td>   50.568</td> <td> 0.000</td> <td>    0.131     0.142</td>\n",
       "</tr>\n",
       "</table>\n",
       "<table class=\"simpletable\">\n",
       "<tr>\n",
       "  <th>Omnibus:</th>       <td>8159.177</td> <th>  Durbin-Watson:     </th>  <td>   1.178</td> \n",
       "</tr>\n",
       "<tr>\n",
       "  <th>Prob(Omnibus):</th>  <td> 0.000</td>  <th>  Jarque-Bera (JB):  </th> <td>654728.978</td>\n",
       "</tr>\n",
       "<tr>\n",
       "  <th>Skew:</th>           <td> 2.972</td>  <th>  Prob(JB):          </th>  <td>    0.00</td> \n",
       "</tr>\n",
       "<tr>\n",
       "  <th>Kurtosis:</th>       <td>40.621</td>  <th>  Cond. No.          </th>  <td>3.89e+06</td> \n",
       "</tr>\n",
       "</table>"
      ],
      "text/plain": [
       "<class 'statsmodels.iolib.summary.Summary'>\n",
       "\"\"\"\n",
       "                            OLS Regression Results                            \n",
       "==============================================================================\n",
       "Dep. Variable:                      y   R-squared:                       0.895\n",
       "Model:                            OLS   Adj. R-squared:                  0.895\n",
       "Method:                 Least Squares   F-statistic:                 1.150e+04\n",
       "Date:                Sat, 21 May 2016   Prob (F-statistic):               0.00\n",
       "Time:                        00:34:39   Log-Likelihood:                -88815.\n",
       "No. Observations:               10832   AIC:                         1.776e+05\n",
       "Df Residuals:                   10824   BIC:                         1.777e+05\n",
       "Df Model:                           8                                         \n",
       "Covariance Type:            nonrobust                                         \n",
       "==============================================================================\n",
       "                 coef    std err          t      P>|t|      [95.0% Conf. Int.]\n",
       "------------------------------------------------------------------------------\n",
       "x1           -10.4376      7.983     -1.307      0.191       -26.086     5.211\n",
       "x2            -7.3445      2.517     -2.918      0.004       -12.279    -2.410\n",
       "x3             0.0019      0.002      0.962      0.336        -0.002     0.006\n",
       "x4           303.4792     15.268     19.877      0.000       273.551   333.408\n",
       "x5           503.1857     22.420     22.444      0.000       459.239   547.133\n",
       "x6             0.0001   2.92e-05      4.146      0.000      6.37e-05     0.000\n",
       "x7            -1.6553      0.226     -7.325      0.000        -2.098    -1.212\n",
       "x8             0.1364      0.003     50.568      0.000         0.131     0.142\n",
       "==============================================================================\n",
       "Omnibus:                     8159.177   Durbin-Watson:                   1.178\n",
       "Prob(Omnibus):                  0.000   Jarque-Bera (JB):           654728.978\n",
       "Skew:                           2.972   Prob(JB):                         0.00\n",
       "Kurtosis:                      40.621   Cond. No.                     3.89e+06\n",
       "==============================================================================\n",
       "\n",
       "Warnings:\n",
       "[1] Standard Errors assume that the covariance matrix of the errors is correctly specified.\n",
       "[2] The condition number is large, 3.89e+06. This might indicate that there are\n",
       "strong multicollinearity or other numerical problems.\n",
       "\"\"\""
      ]
     },
     "execution_count": 166,
     "metadata": {},
     "output_type": "execute_result"
    }
   ],
   "source": [
    "linmod = smf.OLS(y, X).fit()\n",
    "linmod.summary()"
   ]
  },
  {
   "cell_type": "markdown",
   "metadata": {},
   "source": [
    "## Symbolic Math\n",
    "\n",
    "Remember how to solve that integral?\n",
    "\n",
    "Thanks to Matt Rocklin and Andy Terrel https://www.researchgate.net/publication/260585491_Symbolic_Statistics_with_SymPy"
   ]
  },
  {
   "cell_type": "code",
   "execution_count": 76,
   "metadata": {
    "collapsed": true
   },
   "outputs": [],
   "source": [
    "import sympy\n",
    "from sympy.stats import Normal, density, P\n",
    "\n",
    "sympy.init_printing()"
   ]
  },
  {
   "cell_type": "code",
   "execution_count": 89,
   "metadata": {
    "collapsed": false
   },
   "outputs": [
    {
     "data": {
      "image/png": "[encoded data removed]",
      "text/latex": [
       "$$X + 5$$"
      ],
      "text/plain": [
       "X + 5"
      ]
     },
     "execution_count": 89,
     "metadata": {},
     "output_type": "execute_result"
    }
   ],
   "source": [
    "X = Normal('X', mean=3, std=1)\n",
    "Y = X + 5\n",
    "Y"
   ]
  },
  {
   "cell_type": "code",
   "execution_count": 77,
   "metadata": {
    "collapsed": true
   },
   "outputs": [],
   "source": [
    "?Normal"
   ]
  }
 ],
 "metadata": {
  "kernelspec": {
   "display_name": "Python 3",
   "language": "python",
   "name": "python3"
  },
  "language_info": {
   "codemirror_mode": {
    "name": "ipython",
    "version": 3
   },
   "file_extension": ".py",
   "mimetype": "text/x-python",
   "name": "python",
   "nbconvert_exporter": "python",
   "pygments_lexer": "ipython3",
   "version": "3.5.1"
  }
 },
 "nbformat": 4,
 "nbformat_minor": 0
}
