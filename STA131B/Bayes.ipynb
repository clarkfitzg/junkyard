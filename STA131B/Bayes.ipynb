{
 "metadata": {
  "name": "",
  "signature": "sha256:29bdb0e49ca9113a417799cf708a664dfa50c11fba616b596bee6f8643d3074d"
 },
 "nbformat": 3,
 "nbformat_minor": 0,
 "worksheets": [
  {
   "cells": [
    {
     "cell_type": "code",
     "collapsed": false,
     "input": [
      "from sympy import *\n",
      "from scipy import stats\n",
      "import numpy as np\n",
      "\n",
      "np.random.seed(19)\n",
      "init_printing()"
     ],
     "language": "python",
     "metadata": {},
     "outputs": [],
     "prompt_number": 123
    },
    {
     "cell_type": "code",
     "collapsed": false,
     "input": [
      "# Problem 7.6.23 - Method of moments for beta distribution\n",
      "# Let a, b be the sample 1st and 2nd moments\n",
      "# Let alpha, beta be the parameters of the distribution\n",
      "\n",
      "# Enforce the positive assumption\n",
      "#a, b, alpha, beta = [Symbol(x, positive=True) for x in 'a b alpha beta'.split(' ')]\n",
      "\n",
      "a, b, alpha, beta = symbols('a b alpha beta')\n",
      "\n",
      "# Formulae for mean and variance\n",
      "equations = [Eq(alpha / (alpha + beta), a), \n",
      "       Eq(alpha * beta / ((alpha + beta)**2 * (alpha + beta + 1)), b - a**2)]\n",
      "\n",
      "equations"
     ],
     "language": "python",
     "metadata": {},
     "outputs": [
      {
       "latex": [
        "$$\\begin{bmatrix}\\frac{\\alpha}{\\alpha + \\beta} = a, & \\frac{\\alpha \\beta}{\\left(\\alpha + \\beta\\right)^{2} \\left(\\alpha + \\beta + 1\\right)} = - a^{2} + b\\end{bmatrix}$$"
       ],
       "metadata": {},
       "output_type": "pyout",
       "png": "[encoded data removed]",
       "prompt_number": 124,
       "text": [
        "\u23a1  \u03b1                \u03b1\u22c5\u03b2               2    \u23a4\n",
        "\u23a2\u2500\u2500\u2500\u2500\u2500 = a, \u2500\u2500\u2500\u2500\u2500\u2500\u2500\u2500\u2500\u2500\u2500\u2500\u2500\u2500\u2500\u2500\u2500\u2500\u2500\u2500 = - a  + b\u23a5\n",
        "\u23a2\u03b1 + \u03b2             2                       \u23a5\n",
        "\u23a3           (\u03b1 + \u03b2) \u22c5(\u03b1 + \u03b2 + 1)           \u23a6"
       ]
      }
     ],
     "prompt_number": 124
    },
    {
     "cell_type": "code",
     "collapsed": false,
     "input": [
      "# Method of moments estimator\n",
      "mme = solve(equations, [alpha, beta])[1]"
     ],
     "language": "python",
     "metadata": {},
     "outputs": [],
     "prompt_number": 130
    },
    {
     "cell_type": "code",
     "collapsed": false,
     "input": [
      "mme"
     ],
     "language": "python",
     "metadata": {},
     "outputs": [
      {
       "latex": [
        "$$\\begin{pmatrix}- \\frac{a \\left(a - b\\right)}{a^{2} - b}, & \\frac{\\left(a - 1\\right) \\left(a - b\\right)}{a^{2} - b}\\end{pmatrix}$$"
       ],
       "metadata": {},
       "output_type": "pyout",
       "png": "[encoded data removed]",
       "prompt_number": 131,
       "text": [
        "\u239b-a\u22c5(a - b)   (a - 1)\u22c5(a - b)\u239e\n",
        "\u239c\u2500\u2500\u2500\u2500\u2500\u2500\u2500\u2500\u2500\u2500\u2500, \u2500\u2500\u2500\u2500\u2500\u2500\u2500\u2500\u2500\u2500\u2500\u2500\u2500\u2500\u2500\u239f\n",
        "\u239c    2              2        \u239f\n",
        "\u239d   a  - b         a  - b    \u23a0"
       ]
      }
     ],
     "prompt_number": 131
    },
    {
     "cell_type": "code",
     "collapsed": false,
     "input": [
      "# Generate data from a beta distribution\n",
      "true_params = (2, 5)\n",
      "x = stats.beta(*true_params).rvs(1000)"
     ],
     "language": "python",
     "metadata": {},
     "outputs": [],
     "prompt_number": 132
    },
    {
     "cell_type": "code",
     "collapsed": false,
     "input": [
      "# The MLE estimator for alpha, beta\n",
      "stats.beta.fit(x, floc=0, fscale=1)"
     ],
     "language": "python",
     "metadata": {},
     "outputs": [
      {
       "latex": [
        "$$\\begin{pmatrix}2.0690426876, & 5.22430946018, & 0, & 1\\end{pmatrix}$$"
       ],
       "metadata": {},
       "output_type": "pyout",
       "png": "[encoded data removed]",
       "prompt_number": 133,
       "text": [
        "(2.0690426876, 5.22430946018, 0, 1)"
       ]
      }
     ],
     "prompt_number": 133
    },
    {
     "cell_type": "code",
     "collapsed": false,
     "input": [
      "def mmestimate(x):\n",
      "    '''\n",
      "    The method of moments estimator for alpha, beta\n",
      "    x is an array of data\n",
      "    '''\n",
      "    # Sample first and 2nd moments\n",
      "    sm = {a: np.mean(x), b: np.mean(x ** 2)}\n",
      "\n",
      "    return np.array([f.evalf(subs=sm) for f in mme])\n",
      "\n",
      "mmestimate(x)"
     ],
     "language": "python",
     "metadata": {},
     "outputs": [
      {
       "metadata": {},
       "output_type": "pyout",
       "prompt_number": 147,
       "text": [
        "array([2.04980210777281, 5.17704454212568], dtype=object)"
       ]
      }
     ],
     "prompt_number": 147
    },
    {
     "cell_type": "markdown",
     "metadata": {},
     "source": [
      "Here the method of moments estimator outperformed the MLE. I wonder under what conditions this will happen?"
     ]
    },
    {
     "cell_type": "code",
     "collapsed": false,
     "input": [
      "from collections import Counter\n",
      "\n",
      "def mmbetter(alphabeta, npts=100, ntimes=10):\n",
      "    '''\n",
      "    Return the proportion of times that methods of moments is a better estimator\n",
      "    alphabeta is an array containing alpha and beta\n",
      "    '''\n",
      "    count = {'win':0, 'mix':0, 'lose':0}\n",
      "    for i in range(ntimes):\n",
      "        # Generate some data:\n",
      "        samp = stats.beta(*alphabeta).rvs(npts)\n",
      "        \n",
      "        mm_est = mmestimate(samp)\n",
      "        mle_est = np.array(stats.beta.fit(x, floc=0, fscale=1)[:2])\n",
      "        \n",
      "        mm_dist = np.abs(mm_est - alphabeta)\n",
      "        mle_dist = np.abs(mle_est - alphabeta)\n",
      "        \n",
      "        if all(mm_dist < mle_dist):\n",
      "            count['win'] += 1\n",
      "        if all(mm_dist > mle_dist):\n",
      "            count['lose'] += 1\n",
      "        else:\n",
      "            # each method did better on one parameter\n",
      "            count['mix'] += 1\n",
      "    \n",
      "    return count\n",
      "        \n",
      "mm1 = mmbetter(np.array([2, 5]))\n",
      "mm1\n",
      "\n",
      "# Buggy- the count should add up to the ntimes the simulation is run"
     ],
     "language": "python",
     "metadata": {},
     "outputs": [
      {
       "metadata": {},
       "output_type": "pyout",
       "prompt_number": 163,
       "text": [
        "{'mix': 4, 'win': 1, 'lose': 6}"
       ]
      }
     ],
     "prompt_number": 163
    },
    {
     "cell_type": "code",
     "collapsed": false,
     "input": [
      "%debug\n",
      "mm1 = mmbetter(np.array([2, 5]))"
     ],
     "language": "python",
     "metadata": {},
     "outputs": [
      {
       "output_type": "stream",
       "stream": "stdout",
       "text": [
        "> \u001b[0;32m<ipython-input-149-962555e0c3da>\u001b[0m(17)\u001b[0;36mmmbetter\u001b[0;34m()\u001b[0m\n",
        "\u001b[0;32m     16 \u001b[0;31m        \u001b[0mmm_dist\u001b[0m \u001b[0;34m=\u001b[0m \u001b[0mnp\u001b[0m\u001b[0;34m.\u001b[0m\u001b[0mabs\u001b[0m\u001b[0;34m(\u001b[0m\u001b[0mmm_est\u001b[0m \u001b[0;34m-\u001b[0m \u001b[0malphabeta\u001b[0m\u001b[0;34m)\u001b[0m\u001b[0;34m\u001b[0m\u001b[0m\n",
        "\u001b[0m\u001b[0;32m---> 17 \u001b[0;31m        \u001b[0mmle_dist\u001b[0m \u001b[0;34m=\u001b[0m \u001b[0mnp\u001b[0m\u001b[0;34m.\u001b[0m\u001b[0mabs\u001b[0m\u001b[0;34m(\u001b[0m\u001b[0mmle_dist\u001b[0m \u001b[0;34m-\u001b[0m \u001b[0malphabeta\u001b[0m\u001b[0;34m)\u001b[0m\u001b[0;34m\u001b[0m\u001b[0m\n",
        "\u001b[0m\u001b[0;32m     18 \u001b[0;31m\u001b[0;34m\u001b[0m\u001b[0m\n",
        "\u001b[0m\n"
       ]
      },
      {
       "name": "stdout",
       "output_type": "stream",
       "stream": "stdout",
       "text": [
        "ipdb> step\n"
       ]
      }
     ],
     "prompt_number": 157
    },
    {
     "cell_type": "markdown",
     "metadata": {},
     "source": [
      "theta = Symbol('theta')\n",
      "\n",
      "out = integrate(theta * 710 ** theta * 290 ** (1 - theta), (theta, 0, 1))\n",
      "\n",
      "out\n",
      "\n",
      "x = Symbol('x')\n",
      "integrate(710 ** x * 290 ** (1-x), x)"
     ]
    }
   ],
   "metadata": {}
  }
 ]
}