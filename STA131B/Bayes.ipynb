{
 "metadata": {
  "name": "",
  "signature": "sha256:cd9103b35f28d0cca3d8851f221fb20ab21e692ebd9a92d40787c8165c814d8c"
 },
 "nbformat": 3,
 "nbformat_minor": 0,
 "worksheets": [
  {
   "cells": [
    {
     "cell_type": "code",
     "collapsed": false,
     "input": [
      "from sympy import *\n",
      "\n",
      "init_printing()"
     ],
     "language": "python",
     "metadata": {},
     "outputs": [],
     "prompt_number": 12
    },
    {
     "cell_type": "code",
     "collapsed": false,
     "input": [
      "theta = Symbol('theta')\n",
      "\n",
      "out = integrate(theta * 710 ** theta * 290 ** (1 - theta), (theta, 0, 1))\n",
      "\n",
      "out"
     ],
     "language": "python",
     "metadata": {},
     "outputs": [
      {
       "metadata": {},
       "output_type": "pyout",
       "prompt_number": 8,
       "text": [
        "-205900*log(290)/(-580*log(290)*log(710) + 290*log(290)**2 + 290*log(710)**2) - 205900/(-580*log(290)*log(710) + 290*log(290)**2 + 290*log(710)**2) + 290/(-2*log(290)*log(710) + log(290)**2 + log(710)**2) + 205900*log(710)/(-580*log(290)*log(710) + 290*log(290)**2 + 290*log(710)**2)"
       ]
      }
     ],
     "prompt_number": 8
    },
    {
     "cell_type": "code",
     "collapsed": false,
     "input": [
      "type(out)"
     ],
     "language": "python",
     "metadata": {},
     "outputs": [
      {
       "metadata": {},
       "output_type": "pyout",
       "prompt_number": 9,
       "text": [
        "sympy.core.add.Add"
       ]
      }
     ],
     "prompt_number": 9
    },
    {
     "cell_type": "code",
     "collapsed": false,
     "input": [
      "out.evalf()"
     ],
     "language": "python",
     "metadata": {},
     "outputs": [
      {
       "metadata": {},
       "output_type": "pyout",
       "prompt_number": 10,
       "text": [
        "269.077317279054"
       ]
      }
     ],
     "prompt_number": 10
    },
    {
     "cell_type": "code",
     "collapsed": false,
     "input": [
      "x = Symbol('x')\n",
      "integrate(710 ** x * 290 ** (1-x), x)"
     ],
     "language": "python",
     "metadata": {},
     "outputs": [
      {
       "latex": [
        "$$- \\frac{290 \\cdot 710^{x}}{- 290^{x} \\log{\\left (710 \\right )} + 290^{x} \\log{\\left (290 \\right )}}$$"
       ],
       "metadata": {},
       "output_type": "pyout",
       "png": "[encoded data removed]",
       "prompt_number": 13,
       "text": [
        "                   x           \n",
        "           -290\u22c5710            \n",
        "\u2500\u2500\u2500\u2500\u2500\u2500\u2500\u2500\u2500\u2500\u2500\u2500\u2500\u2500\u2500\u2500\u2500\u2500\u2500\u2500\u2500\u2500\u2500\u2500\u2500\u2500\u2500\u2500\u2500\u2500\u2500\n",
        "     x               x         \n",
        "- 290 \u22c5log(710) + 290 \u22c5log(290)"
       ]
      }
     ],
     "prompt_number": 13
    },
    {
     "cell_type": "code",
     "collapsed": false,
     "input": [
      "# Problem 7.6.23 - Method of moments for beta distribution\n",
      "# Let a, b be the sample 1st and 2nd moments\n",
      "# Let alpha, beta be the parameters of the distribution\n",
      "\n",
      "a, b, alpha, beta = symbols('a, b, alpha, beta')\n",
      "\n",
      "equations = [Eq(alpha / (alpha + beta), a), \n",
      "       Eq(alpha * beta / ((alpha + beta)**2 * (alpha + beta + 1)), b)]\n",
      "\n",
      "equations"
     ],
     "language": "python",
     "metadata": {},
     "outputs": [
      {
       "latex": [
        "$$\\begin{bmatrix}\\frac{\\alpha}{\\alpha + \\beta} = a, & \\frac{\\alpha \\beta}{\\left(\\alpha + \\beta\\right)^{2} \\left(\\alpha + \\beta + 1\\right)} = b\\end{bmatrix}$$"
       ],
       "metadata": {},
       "output_type": "pyout",
       "png": "[encoded data removed]",
       "prompt_number": 21,
       "text": [
        "\u23a1  \u03b1                \u03b1\u22c5\u03b2             \u23a4\n",
        "\u23a2\u2500\u2500\u2500\u2500\u2500 = a, \u2500\u2500\u2500\u2500\u2500\u2500\u2500\u2500\u2500\u2500\u2500\u2500\u2500\u2500\u2500\u2500\u2500\u2500\u2500\u2500 = b\u23a5\n",
        "\u23a2\u03b1 + \u03b2             2                \u23a5\n",
        "\u23a3           (\u03b1 + \u03b2) \u22c5(\u03b1 + \u03b2 + 1)    \u23a6"
       ]
      }
     ],
     "prompt_number": 21
    },
    {
     "cell_type": "code",
     "collapsed": false,
     "input": [
      "solve(equations, [alpha, beta])"
     ],
     "language": "python",
     "metadata": {},
     "outputs": [
      {
       "latex": [
        "$$\\begin{bmatrix}\\begin{pmatrix}0, & 0\\end{pmatrix}, & \\begin{pmatrix}- \\frac{a}{b} \\left(a^{2} - a + b\\right), & \\frac{1}{b} \\left(a - 1\\right) \\left(a^{2} - a + b\\right)\\end{pmatrix}\\end{bmatrix}$$"
       ],
       "metadata": {},
       "output_type": "pyout",
       "png": "[encoded data removed]",
       "prompt_number": 22,
       "text": [
        "\u23a1        \u239b   \u239b 2        \u239e           \u239b 2        \u239e\u239e\u23a4\n",
        "\u23a2        \u239c-a\u22c5\u239da  - a + b\u23a0   (a - 1)\u22c5\u239da  - a + b\u23a0\u239f\u23a5\n",
        "\u23a2(0, 0), \u239c\u2500\u2500\u2500\u2500\u2500\u2500\u2500\u2500\u2500\u2500\u2500\u2500\u2500\u2500\u2500\u2500, \u2500\u2500\u2500\u2500\u2500\u2500\u2500\u2500\u2500\u2500\u2500\u2500\u2500\u2500\u2500\u2500\u2500\u2500\u2500\u2500\u239f\u23a5\n",
        "\u23a3        \u239d       b                   b          \u23a0\u23a6"
       ]
      }
     ],
     "prompt_number": 22
    }
   ],
   "metadata": {}
  }
 ]
}