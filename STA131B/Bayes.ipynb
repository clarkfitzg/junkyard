{
 "metadata": {
  "name": "",
  "signature": "sha256:df7b48207c53fbf160ae504e563e472e38822561add553f9396bdc580fe6c517"
 },
 "nbformat": 3,
 "nbformat_minor": 0,
 "worksheets": [
  {
   "cells": [
    {
     "cell_type": "code",
     "collapsed": false,
     "input": [
      "from sympy import *\n",
      "from scipy import stats\n",
      "import numpy as np\n",
      "\n",
      "np.random.seed(19)\n",
      "init_printing()"
     ],
     "language": "python",
     "metadata": {},
     "outputs": [],
     "prompt_number": 57
    },
    {
     "cell_type": "code",
     "collapsed": false,
     "input": [
      "# Problem 7.6.23 - Method of moments for beta distribution\n",
      "# Let a, b be the sample 1st and 2nd moments\n",
      "# Let alpha, beta be the parameters of the distribution\n",
      "\n",
      "# Enforce the positive assumption\n",
      "#a, b, alpha, beta = [Symbol(x, positive=True) for x in 'a b alpha beta'.split(' ')]\n",
      "\n",
      "a, b, alpha, beta = symbols('a b alpha beta')\n",
      "\n",
      "# Formulae for mean and variance\n",
      "equations = [Eq(alpha / (alpha + beta), a), \n",
      "       Eq(alpha * beta / ((alpha + beta)**2 * (alpha + beta + 1)), b - a**2)]\n",
      "\n",
      "equations"
     ],
     "language": "python",
     "metadata": {},
     "outputs": [
      {
       "latex": [
        "$$\\begin{bmatrix}\\frac{\\alpha}{\\alpha + \\beta} = a, & \\frac{\\alpha \\beta}{\\left(\\alpha + \\beta\\right)^{2} \\left(\\alpha + \\beta + 1\\right)} = - a^{2} + b\\end{bmatrix}$$"
       ],
       "metadata": {},
       "output_type": "pyout",
       "png": "[encoded data removed]",
       "prompt_number": 58,
       "text": [
        "\u23a1  \u03b1                \u03b1\u22c5\u03b2               2    \u23a4\n",
        "\u23a2\u2500\u2500\u2500\u2500\u2500 = a, \u2500\u2500\u2500\u2500\u2500\u2500\u2500\u2500\u2500\u2500\u2500\u2500\u2500\u2500\u2500\u2500\u2500\u2500\u2500\u2500 = - a  + b\u23a5\n",
        "\u23a2\u03b1 + \u03b2             2                       \u23a5\n",
        "\u23a3           (\u03b1 + \u03b2) \u22c5(\u03b1 + \u03b2 + 1)           \u23a6"
       ]
      }
     ],
     "prompt_number": 58
    },
    {
     "cell_type": "code",
     "collapsed": false,
     "input": [
      "# Method of moments estimator\n",
      "mme = solve(equations, [alpha, beta])[1]"
     ],
     "language": "python",
     "metadata": {},
     "outputs": [],
     "prompt_number": 59
    },
    {
     "cell_type": "code",
     "collapsed": false,
     "input": [
      "mme"
     ],
     "language": "python",
     "metadata": {},
     "outputs": [
      {
       "latex": [
        "$$\\begin{pmatrix}- \\frac{a \\left(a - b\\right)}{a^{2} - b}, & \\frac{\\left(a - 1\\right) \\left(a - b\\right)}{a^{2} - b}\\end{pmatrix}$$"
       ],
       "metadata": {},
       "output_type": "pyout",
       "png": "[encoded data removed]",
       "prompt_number": 60,
       "text": [
        "\u239b-a\u22c5(a - b)   (a - 1)\u22c5(a - b)\u239e\n",
        "\u239c\u2500\u2500\u2500\u2500\u2500\u2500\u2500\u2500\u2500\u2500\u2500, \u2500\u2500\u2500\u2500\u2500\u2500\u2500\u2500\u2500\u2500\u2500\u2500\u2500\u2500\u2500\u239f\n",
        "\u239c    2              2        \u239f\n",
        "\u239d   a  - b         a  - b    \u23a0"
       ]
      }
     ],
     "prompt_number": 60
    },
    {
     "cell_type": "code",
     "collapsed": false,
     "input": [
      "# Generate data from a beta distribution\n",
      "true_params = (2, 5)\n",
      "x = stats.beta(*true_params).rvs(1000)"
     ],
     "language": "python",
     "metadata": {},
     "outputs": [],
     "prompt_number": 61
    },
    {
     "cell_type": "code",
     "collapsed": false,
     "input": [
      "# The MLE estimator for alpha, beta\n",
      "stats.beta.fit(x, floc=0, fscale=1)"
     ],
     "language": "python",
     "metadata": {},
     "outputs": [
      {
       "latex": [
        "$$\\begin{pmatrix}1.99206169945, & 5.00651525197, & 0, & 1\\end{pmatrix}$$"
       ],
       "metadata": {},
       "output_type": "pyout",
       "png": "[encoded data removed]",
       "prompt_number": 62,
       "text": [
        "(1.99206169945, 5.00651525197, 0, 1)"
       ]
      }
     ],
     "prompt_number": 62
    },
    {
     "cell_type": "code",
     "collapsed": false,
     "input": [
      "def mmestimate(x):\n",
      "    '''\n",
      "    The method of moments estimator for alpha, beta\n",
      "    x is an array of data\n",
      "    '''\n",
      "    # Sample first and 2nd moments\n",
      "    sm = {a: np.mean(x), b: np.mean(x ** 2)}\n",
      "\n",
      "    return np.array([f.evalf(subs=sm) for f in mme])\n",
      "\n",
      "mmestimate(x)"
     ],
     "language": "python",
     "metadata": {},
     "outputs": [
      {
       "metadata": {},
       "output_type": "pyout",
       "prompt_number": 63,
       "text": [
        "array([1.97145492612938, 4.95684539844348], dtype=object)"
       ]
      }
     ],
     "prompt_number": 63
    },
    {
     "cell_type": "markdown",
     "metadata": {},
     "source": [
      "Here the method of moments estimator did not outperform the MLE in estimating the true parameter. I wonder under what conditions this will happen?"
     ]
    },
    {
     "cell_type": "code",
     "collapsed": false,
     "input": [
      "def mlebetter(alphabeta, npts=100):\n",
      "    '''\n",
      "    Return True if the MLE is closer in absolute value to the true alpha and beta than MOM\n",
      "    '''    \n",
      "    samp = stats.beta(*alphabeta).rvs(npts) \n",
      "    mm_est = mmestimate(samp)\n",
      "    mle_est = np.array(stats.beta.fit(x, floc=0, fscale=1)[:2])\n",
      "        \n",
      "    mm_dist = np.abs(mm_est - alphabeta)\n",
      "    mle_dist = np.abs(mle_est - alphabeta)\n",
      "        \n",
      "    if all(mm_dist > mle_dist):\n",
      "        return True\n",
      "    else:\n",
      "        return False"
     ],
     "language": "python",
     "metadata": {},
     "outputs": [],
     "prompt_number": 64
    },
    {
     "cell_type": "code",
     "collapsed": false,
     "input": [
      "mle_wins = [mlebetter((2, 5)) for x in range(1000)]\n",
      "sum(mle_wins)"
     ],
     "language": "python",
     "metadata": {},
     "outputs": [
      {
       "latex": [
        "$$964$$"
       ],
       "metadata": {},
       "output_type": "pyout",
       "png": "[encoded data removed]",
       "prompt_number": 65,
       "text": [
        "964"
       ]
      }
     ],
     "prompt_number": 65
    },
    {
     "cell_type": "markdown",
     "metadata": {},
     "source": [
      "Here we observe that for 1000 iid random samples from $X \\sim$ Beta(2, 5), the MLE was closer in absolute value to both of the true parameters in 964 cases."
     ]
    }
   ],
   "metadata": {}
  }
 ]
}