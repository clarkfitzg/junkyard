{
 "metadata": {
  "name": "",
  "signature": "sha256:672373341e3eba2001e6f234c93a2b07427d6479d5c98ce1ba4d86a6661c61b1"
 },
 "nbformat": 3,
 "nbformat_minor": 0,
 "worksheets": [
  {
   "cells": [
    {
     "cell_type": "code",
     "collapsed": false,
     "input": [
      "from sympy import *\n",
      "from scipy import stats\n",
      "import numpy as np\n",
      "import pandas as pd\n",
      "import matplotlib.pyplot as plt\n",
      "\n",
      "np.random.seed(19)\n",
      "init_printing()\n",
      "%matplotlib inline"
     ],
     "language": "python",
     "metadata": {},
     "outputs": [],
     "prompt_number": 84
    },
    {
     "cell_type": "code",
     "collapsed": false,
     "input": [
      "# Problem 7.6.23 - Method of moments for beta distribution\n",
      "# Let a, b be the sample 1st and 2nd moments\n",
      "# Let alpha, beta be the parameters of the distribution\n",
      "\n",
      "# Enforce the positive assumption\n",
      "#a, b, alpha, beta = [Symbol(x, positive=True) for x in 'a b alpha beta'.split(' ')]\n",
      "\n",
      "a, b, alpha, beta = symbols('a b alpha beta')\n",
      "\n",
      "# Formulae for mean and variance\n",
      "equations = [Eq(alpha / (alpha + beta), a), \n",
      "       Eq(alpha * beta / ((alpha + beta)**2 * (alpha + beta + 1)), b - a**2)]\n",
      "\n",
      "equations"
     ],
     "language": "python",
     "metadata": {},
     "outputs": [
      {
       "latex": [
        "$$\\begin{bmatrix}\\frac{\\alpha}{\\alpha + \\beta} = a, & \\frac{\\alpha \\beta}{\\left(\\alpha + \\beta\\right)^{2} \\left(\\alpha + \\beta + 1\\right)} = - a^{2} + b\\end{bmatrix}$$"
       ],
       "metadata": {},
       "output_type": "pyout",
       "png": "[encoded data removed]",
       "prompt_number": 85,
       "text": [
        "\u23a1  \u03b1                \u03b1\u22c5\u03b2               2    \u23a4\n",
        "\u23a2\u2500\u2500\u2500\u2500\u2500 = a, \u2500\u2500\u2500\u2500\u2500\u2500\u2500\u2500\u2500\u2500\u2500\u2500\u2500\u2500\u2500\u2500\u2500\u2500\u2500\u2500 = - a  + b\u23a5\n",
        "\u23a2\u03b1 + \u03b2             2                       \u23a5\n",
        "\u23a3           (\u03b1 + \u03b2) \u22c5(\u03b1 + \u03b2 + 1)           \u23a6"
       ]
      }
     ],
     "prompt_number": 85
    },
    {
     "cell_type": "code",
     "collapsed": false,
     "input": [
      "# Method of moments estimator\n",
      "mme = solve(equations, [alpha, beta])[1]"
     ],
     "language": "python",
     "metadata": {},
     "outputs": [],
     "prompt_number": 86
    },
    {
     "cell_type": "code",
     "collapsed": false,
     "input": [
      "mme"
     ],
     "language": "python",
     "metadata": {},
     "outputs": [
      {
       "latex": [
        "$$\\begin{pmatrix}- \\frac{a \\left(a - b\\right)}{a^{2} - b}, & \\frac{\\left(a - 1\\right) \\left(a - b\\right)}{a^{2} - b}\\end{pmatrix}$$"
       ],
       "metadata": {},
       "output_type": "pyout",
       "png": "[encoded data removed]",
       "prompt_number": 87,
       "text": [
        "\u239b-a\u22c5(a - b)   (a - 1)\u22c5(a - b)\u239e\n",
        "\u239c\u2500\u2500\u2500\u2500\u2500\u2500\u2500\u2500\u2500\u2500\u2500, \u2500\u2500\u2500\u2500\u2500\u2500\u2500\u2500\u2500\u2500\u2500\u2500\u2500\u2500\u2500\u239f\n",
        "\u239c    2              2        \u239f\n",
        "\u239d   a  - b         a  - b    \u23a0"
       ]
      }
     ],
     "prompt_number": 87
    },
    {
     "cell_type": "code",
     "collapsed": false,
     "input": [
      "# Generate data from a beta distribution\n",
      "true_params = (2, 5)\n",
      "x = stats.beta(*true_params).rvs(1000)"
     ],
     "language": "python",
     "metadata": {},
     "outputs": [],
     "prompt_number": 88
    },
    {
     "cell_type": "code",
     "collapsed": false,
     "input": [
      "# The MLE estimator for alpha, beta\n",
      "stats.beta.fit(x, floc=0, fscale=1)"
     ],
     "language": "python",
     "metadata": {},
     "outputs": [
      {
       "latex": [
        "$$\\begin{pmatrix}1.99206169945, & 5.00651525197, & 0, & 1\\end{pmatrix}$$"
       ],
       "metadata": {},
       "output_type": "pyout",
       "png": "[encoded data removed]",
       "prompt_number": 89,
       "text": [
        "(1.99206169945, 5.00651525197, 0, 1)"
       ]
      }
     ],
     "prompt_number": 89
    },
    {
     "cell_type": "code",
     "collapsed": false,
     "input": [
      "def mmestimate(x):\n",
      "    '''\n",
      "    The method of moments estimator for alpha, beta\n",
      "    x is an array of data\n",
      "    '''\n",
      "    # Sample first and 2nd moments\n",
      "    sm = {'a': np.mean(x), 'b': np.mean(x ** 2)}\n",
      "\n",
      "    return np.array([f.evalf(subs=sm) for f in mme])\n",
      "\n",
      "mmestimate(x)"
     ],
     "language": "python",
     "metadata": {},
     "outputs": [
      {
       "metadata": {},
       "output_type": "pyout",
       "prompt_number": 90,
       "text": [
        "array([1.97145492612938, 4.95684539844348], dtype=object)"
       ]
      }
     ],
     "prompt_number": 90
    },
    {
     "cell_type": "code",
     "collapsed": false,
     "input": [],
     "language": "python",
     "metadata": {},
     "outputs": [],
     "prompt_number": 90
    },
    {
     "cell_type": "markdown",
     "metadata": {},
     "source": []
    },
    {
     "cell_type": "code",
     "collapsed": false,
     "input": [
      "def sq_error(alphabeta, npts=100):\n",
      "    '''\n",
      "    Return the total squared error for both the MLE and MOM\n",
      "    '''\n",
      "    samp = stats.beta(*alphabeta).rvs(npts) \n",
      "    mle_est = np.array(stats.beta.fit(samp, floc=0, fscale=1)[:2])\n",
      "    mm_est = mmestimate(samp)\n",
      "    \n",
      "    return {'MLE': float(np.sum((mle_est - alphabeta) ** 2)),\n",
      "            'MOM': float(np.sum((mm_est - alphabeta) ** 2))}\n",
      "\n",
      "sq_error((2, 5))"
     ],
     "language": "python",
     "metadata": {},
     "outputs": [
      {
       "metadata": {},
       "output_type": "pyout",
       "prompt_number": 91,
       "text": [
        "{'MOM': 0.01295901555570012, 'MLE': 0.2377092055143704}"
       ]
      }
     ],
     "prompt_number": 91
    },
    {
     "cell_type": "code",
     "collapsed": false,
     "input": [
      "errors = pd.DataFrame([sq_error((2, 5)) for x in range(300)])"
     ],
     "language": "python",
     "metadata": {},
     "outputs": [],
     "prompt_number": 92
    },
    {
     "cell_type": "code",
     "collapsed": false,
     "input": [
      "print(errors.dtypes)\n",
      "errors.head()"
     ],
     "language": "python",
     "metadata": {},
     "outputs": [
      {
       "output_type": "stream",
       "stream": "stdout",
       "text": [
        "MLE    float64\n",
        "MOM    float64\n",
        "dtype: object\n"
       ]
      },
      {
       "html": [
        "<div style=\"max-height:1000px;max-width:1500px;overflow:auto;\">\n",
        "<table border=\"1\" class=\"dataframe\">\n",
        "  <thead>\n",
        "    <tr style=\"text-align: right;\">\n",
        "      <th></th>\n",
        "      <th>MLE</th>\n",
        "      <th>MOM</th>\n",
        "    </tr>\n",
        "  </thead>\n",
        "  <tbody>\n",
        "    <tr>\n",
        "      <th>0</th>\n",
        "      <td> 0.024910</td>\n",
        "      <td> 0.158761</td>\n",
        "    </tr>\n",
        "    <tr>\n",
        "      <th>1</th>\n",
        "      <td> 9.008162</td>\n",
        "      <td> 5.552245</td>\n",
        "    </tr>\n",
        "    <tr>\n",
        "      <th>2</th>\n",
        "      <td> 0.030958</td>\n",
        "      <td> 0.002048</td>\n",
        "    </tr>\n",
        "    <tr>\n",
        "      <th>3</th>\n",
        "      <td> 0.223182</td>\n",
        "      <td> 0.868522</td>\n",
        "    </tr>\n",
        "    <tr>\n",
        "      <th>4</th>\n",
        "      <td> 2.010605</td>\n",
        "      <td> 1.272536</td>\n",
        "    </tr>\n",
        "  </tbody>\n",
        "</table>\n",
        "</div>"
       ],
       "metadata": {},
       "output_type": "pyout",
       "prompt_number": 93,
       "text": [
        "        MLE       MOM\n",
        "0  0.024910  0.158761\n",
        "1  9.008162  5.552245\n",
        "2  0.030958  0.002048\n",
        "3  0.223182  0.868522\n",
        "4  2.010605  1.272536"
       ]
      }
     ],
     "prompt_number": 93
    },
    {
     "cell_type": "code",
     "collapsed": false,
     "input": [
      "errors.describe()"
     ],
     "language": "python",
     "metadata": {},
     "outputs": [
      {
       "html": [
        "<div style=\"max-height:1000px;max-width:1500px;overflow:auto;\">\n",
        "<table border=\"1\" class=\"dataframe\">\n",
        "  <thead>\n",
        "    <tr style=\"text-align: right;\">\n",
        "      <th></th>\n",
        "      <th>MLE</th>\n",
        "      <th>MOM</th>\n",
        "    </tr>\n",
        "  </thead>\n",
        "  <tbody>\n",
        "    <tr>\n",
        "      <th>count</th>\n",
        "      <td> 300.000000</td>\n",
        "      <td> 300.000000</td>\n",
        "    </tr>\n",
        "    <tr>\n",
        "      <th>mean</th>\n",
        "      <td>   0.720380</td>\n",
        "      <td>   0.809182</td>\n",
        "    </tr>\n",
        "    <tr>\n",
        "      <th>std</th>\n",
        "      <td>   1.218230</td>\n",
        "      <td>   1.327272</td>\n",
        "    </tr>\n",
        "    <tr>\n",
        "      <th>min</th>\n",
        "      <td>   0.000071</td>\n",
        "      <td>   0.000587</td>\n",
        "    </tr>\n",
        "    <tr>\n",
        "      <th>25%</th>\n",
        "      <td>   0.081079</td>\n",
        "      <td>   0.108600</td>\n",
        "    </tr>\n",
        "    <tr>\n",
        "      <th>50%</th>\n",
        "      <td>   0.262946</td>\n",
        "      <td>   0.349794</td>\n",
        "    </tr>\n",
        "    <tr>\n",
        "      <th>75%</th>\n",
        "      <td>   0.816429</td>\n",
        "      <td>   0.883238</td>\n",
        "    </tr>\n",
        "    <tr>\n",
        "      <th>max</th>\n",
        "      <td>   9.008162</td>\n",
        "      <td>  10.368756</td>\n",
        "    </tr>\n",
        "  </tbody>\n",
        "</table>\n",
        "</div>"
       ],
       "metadata": {},
       "output_type": "pyout",
       "prompt_number": 94,
       "text": [
        "              MLE         MOM\n",
        "count  300.000000  300.000000\n",
        "mean     0.720380    0.809182\n",
        "std      1.218230    1.327272\n",
        "min      0.000071    0.000587\n",
        "25%      0.081079    0.108600\n",
        "50%      0.262946    0.349794\n",
        "75%      0.816429    0.883238\n",
        "max      9.008162   10.368756"
       ]
      }
     ],
     "prompt_number": 94
    },
    {
     "cell_type": "markdown",
     "metadata": {},
     "source": [
      "So the MLE is better, but not by a very wide margin."
     ]
    },
    {
     "cell_type": "code",
     "collapsed": false,
     "input": [
      "errors.plot(kind='box')"
     ],
     "language": "python",
     "metadata": {},
     "outputs": [
      {
       "metadata": {},
       "output_type": "pyout",
       "prompt_number": 95,
       "text": [
        "<matplotlib.axes._subplots.AxesSubplot at 0x10d7c8240>"
       ]
      },
      {
       "metadata": {},
       "output_type": "display_data",
       "png": "[encoded data removed]",
       "text": [
        "<matplotlib.figure.Figure at 0x10d731550>"
       ]
      }
     ],
     "prompt_number": 95
    },
    {
     "cell_type": "code",
     "collapsed": false,
     "input": [
      "b = np.linspace(0, 3, num=30)\n",
      "plt.hist(errors['MLE'], bins=b, alpha=0.3, color='red')\n",
      "plt.hist(errors['MOM'], bins=b, alpha=0.3, color='blue')"
     ],
     "language": "python",
     "metadata": {},
     "outputs": [
      {
       "metadata": {},
       "output_type": "pyout",
       "prompt_number": 96,
       "text": [
        "(array([ 72.,  51.,  19.,  22.,  18.,  20.,   7.,   8.,  10.,  12.,   5.,\n",
        "          3.,   3.,   4.,   4.,   3.,   2.,   3.,   2.,   1.,   4.,   1.,\n",
        "          0.,   1.,   2.,   1.,   1.,   1.,   0.]),\n",
        " array([ 0.        ,  0.10344828,  0.20689655,  0.31034483,  0.4137931 ,\n",
        "         0.51724138,  0.62068966,  0.72413793,  0.82758621,  0.93103448,\n",
        "         1.03448276,  1.13793103,  1.24137931,  1.34482759,  1.44827586,\n",
        "         1.55172414,  1.65517241,  1.75862069,  1.86206897,  1.96551724,\n",
        "         2.06896552,  2.17241379,  2.27586207,  2.37931034,  2.48275862,\n",
        "         2.5862069 ,  2.68965517,  2.79310345,  2.89655172,  3.        ]),\n",
        " <a list of 29 Patch objects>)"
       ]
      },
      {
       "metadata": {},
       "output_type": "display_data",
       "png": "[encoded data removed]",
       "text": [
        "<matplotlib.figure.Figure at 0x10d79aa58>"
       ]
      }
     ],
     "prompt_number": 96
    },
    {
     "cell_type": "code",
     "collapsed": false,
     "input": [
      "def mlebetter(alphabeta, npts=100):\n",
      "    '''\n",
      "    Return True if the MLE is closer in absolute value to the true alpha and beta than MOM\n",
      "    '''    \n",
      "    samp = stats.beta(*alphabeta).rvs(npts) \n",
      "    mm_est = mmestimate(samp)\n",
      "    mle_est = np.array(stats.beta.fit(samp, floc=0, fscale=1)[:2])\n",
      "        \n",
      "    mm_dist = np.abs(mm_est - alphabeta)\n",
      "    mle_dist = np.abs(mle_est - alphabeta)\n",
      "        \n",
      "    if all(mm_dist > mle_dist):\n",
      "        return True\n",
      "    else:\n",
      "        return False"
     ],
     "language": "python",
     "metadata": {},
     "outputs": [],
     "prompt_number": 97
    },
    {
     "cell_type": "code",
     "collapsed": false,
     "input": [
      "mle_wins = [mlebetter((2, 5)) for x in range(100)]\n",
      "sum(mle_wins)"
     ],
     "language": "python",
     "metadata": {},
     "outputs": [
      {
       "latex": [
        "$$36$$"
       ],
       "metadata": {},
       "output_type": "pyout",
       "png": "[encoded data removed]",
       "prompt_number": 98,
       "text": [
        "36"
       ]
      }
     ],
     "prompt_number": 98
    },
    {
     "cell_type": "markdown",
     "metadata": {},
     "source": [
      "Here we observe that for 100 iid random samples from $X \\sim$ Beta(2, 5), the number of times that the MLE was closer in absolute value to both of the true parameters."
     ]
    },
    {
     "cell_type": "code",
     "collapsed": false,
     "input": [],
     "language": "python",
     "metadata": {},
     "outputs": [],
     "prompt_number": 98
    }
   ],
   "metadata": {}
  }
 ]
}