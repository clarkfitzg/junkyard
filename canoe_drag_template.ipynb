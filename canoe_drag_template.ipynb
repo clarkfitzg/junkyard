{
 "cells": [
  {
   "cell_type": "markdown",
   "metadata": {},
   "source": [
    "## Canoe Drag\n",
    "\n",
    "Group ___"
   ]
  },
  {
   "cell_type": "markdown",
   "metadata": {},
   "source": [
    "## Model\n",
    "\n",
    "> Use $\\LaTeX$ to describe precisely, in mathematical terms, how you are modeling a canoe moving through the water. Use quadratic drag as discussed in class.\n",
    "\n",
    "TODO: Modeling goes here. The grey bar indicates instructions, or a quote more generally."
   ]
  },
  {
   "cell_type": "markdown",
   "metadata": {},
   "source": [
    "## Code\n",
    "\n",
    "> Fill in the function skeleton below to implement your model"
   ]
  },
  {
   "cell_type": "code",
   "execution_count": 1,
   "metadata": {},
   "outputs": [],
   "source": [
    "def paddle(v0 = 0, \n",
    "           force = lambda x: 300,\n",
    "           cdrag = 40, \n",
    "           ttotal = 5,\n",
    "           mass = 80,\n",
    "           tdelta = 0.05,):\n",
    "    \"\"\"\n",
    "    parameters\n",
    "    ==========\n",
    "    v0:     initial velocity in m/s\n",
    "    force:  force function in Newtons\n",
    "    cdrag:  coefficient of drag for hull\n",
    "    ttotal: total simulation time in seconds\n",
    "    mass:   mass of boat, paddler, and equipment in kg\n",
    "    delta:  time step interval in seconds\n",
    "    \n",
    "    results\n",
    "    =======\n",
    "    velocity: vector of velocity in m/s\n",
    "    time:     vector of corresponding time points in seconds\n",
    "    \"\"\"\n",
    "    pass\n",
    "\n",
    "# Write more helper functions as necessary.\n",
    "# For example, a plotting function that sets the correct\n",
    "# x and y labels is handy."
   ]
  },
  {
   "cell_type": "markdown",
   "metadata": {},
   "source": [
    "## Experiment\n",
    "\n",
    "> Test your function and show plots of velocity against time for two cases:\n",
    "> \n",
    "> 1. A constant steady propulsive force representing a motor.\n",
    "> 2. A periodic propulsive force representing a human paddler."
   ]
  },
  {
   "cell_type": "code",
   "execution_count": null,
   "metadata": {},
   "outputs": [],
   "source": [
    "# TODO: Experiment code"
   ]
  },
  {
   "cell_type": "markdown",
   "metadata": {},
   "source": [
    "## Discuss\n",
    "\n",
    "> Comment on what your experiment shows. Write 2-3 paragaphs.\n",
    "\n",
    "TODO: Writing goes here. The grey bar indicates instructions, or a quote more generally."
   ]
  }
 ],
 "metadata": {
  "kernelspec": {
   "display_name": "Python 3",
   "language": "python",
   "name": "python3"
  },
  "language_info": {
   "codemirror_mode": {
    "name": "ipython",
    "version": 3
   },
   "file_extension": ".py",
   "mimetype": "text/x-python",
   "name": "python",
   "nbconvert_exporter": "python",
   "pygments_lexer": "ipython3",
   "version": "3.8.5"
  }
 },
 "nbformat": 4,
 "nbformat_minor": 4
}
