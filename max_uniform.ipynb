{
 "metadata": {
  "name": "",
  "signature": "sha256:ac7388242f6d2f42a260ccf93ebd6b869072b7fa8af5433f1775d1f0665cb280"
 },
 "nbformat": 3,
 "nbformat_minor": 0,
 "worksheets": [
  {
   "cells": [
    {
     "cell_type": "markdown",
     "metadata": {},
     "source": [
      "Wasserman's All of Statistics\n",
      "\n",
      "Exercise 3.3\n",
      "\n",
      "Let $X_1 \\dots X_n$ ~ Uniform$(0, 1)$ and let $Y_n = \\max \\{X_1 \\dots X_n\\}$. Find $\\mathbb{E}(Y_n)$."
     ]
    },
    {
     "cell_type": "code",
     "collapsed": false,
     "input": [
      "%pylab inline\n",
      "pylab.rcParams['figure.figsize'] = (10.0, 8.0)\n",
      "\n",
      "from scipy.stats import uniform\n",
      "from trix import replicate"
     ],
     "language": "python",
     "metadata": {},
     "outputs": [
      {
       "output_type": "stream",
       "stream": "stdout",
       "text": [
        "Populating the interactive namespace from numpy and matplotlib\n"
       ]
      },
      {
       "output_type": "stream",
       "stream": "stderr",
       "text": [
        "WARNING: pylab import has clobbered these variables: ['uniform']\n",
        "`%matplotlib` prevents importing * from pylab and numpy\n"
       ]
      }
     ],
     "prompt_number": 19
    },
    {
     "cell_type": "code",
     "collapsed": false,
     "input": [
      "X = uniform(0, 1)\n",
      "\n",
      "def Y(n):\n",
      "    return max(X.rvs(n))\n",
      "\n",
      "# Expect this to be near 1\n",
      "Y(100)"
     ],
     "language": "python",
     "metadata": {},
     "outputs": [
      {
       "metadata": {},
       "output_type": "pyout",
       "prompt_number": 3,
       "text": [
        "0.99951965323763048"
       ]
      }
     ],
     "prompt_number": 3
    },
    {
     "cell_type": "code",
     "collapsed": false,
     "input": [
      "# For each n take many samples and record their mean.\n",
      "# Compare this to derived result n/(n+1).\n",
      "\n",
      "num_samps = 100\n",
      "\n",
      "@vectorize\n",
      "def experiment(n):\n",
      "    '''\n",
      "    Perform Y(n) many times and take the mean\n",
      "    '''\n",
      "    return mean(replicate(Y, num_samps, n))\n",
      "\n",
      "# Expect this to be near 1\n",
      "experiment(100)"
     ],
     "language": "python",
     "metadata": {},
     "outputs": [
      {
       "metadata": {},
       "output_type": "pyout",
       "prompt_number": 9,
       "text": [
        "array(0.9899700949761493)"
       ]
      }
     ],
     "prompt_number": 9
    },
    {
     "cell_type": "code",
     "collapsed": false,
     "input": [
      "all_n = arange(1, 21)\n",
      "theory = all_n / (all_n + 1)\n",
      "actuals = experiment(all_n)\n",
      "\n",
      "plot(all_n, theory)\n",
      "plot(all_n, actuals)"
     ],
     "language": "python",
     "metadata": {},
     "outputs": [
      {
       "metadata": {},
       "output_type": "pyout",
       "prompt_number": 24,
       "text": [
        "[<matplotlib.lines.Line2D at 0x106d27470>]"
       ]
      },
      {
       "metadata": {},
       "output_type": "display_data",
       "png": "[encoded data removed]",
       "text": [
        "<matplotlib.figure.Figure at 0x10673a320>"
       ]
      }
     ],
     "prompt_number": 24
    }
   ],
   "metadata": {}
  }
 ]
}